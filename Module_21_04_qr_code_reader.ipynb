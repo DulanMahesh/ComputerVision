{
  "cells": [
    {
      "cell_type": "markdown",
      "metadata": {
        "id": "view-in-github",
        "colab_type": "text"
      },
      "source": [
        "<a href=\"https://colab.research.google.com/github/DulanMahesh/ComputerVision/blob/main/Module_21_04_qr_code_reader.ipynb\" target=\"_parent\"><img src=\"https://colab.research.google.com/assets/colab-badge.svg\" alt=\"Open In Colab\"/></a>"
      ]
    },
    {
      "cell_type": "markdown",
      "id": "fd51880d-aba3-4f68-8f6e-4845b1db249e",
      "metadata": {
        "id": "fd51880d-aba3-4f68-8f6e-4845b1db249e"
      },
      "source": [
        "# QR Code Detection and Decoder using OpenCV and Python"
      ]
    },
    {
      "cell_type": "markdown",
      "id": "76f0fb30-3db9-4366-a0e6-4a5b252c803b",
      "metadata": {
        "id": "76f0fb30-3db9-4366-a0e6-4a5b252c803b"
      },
      "source": [
        "![](https://www.dropbox.com/scl/fi/70vadv3alo2f4re0el6xh/QR-output.jpg?rlkey=oxwl032j7zpooykw4mf3f5kcr&dl=1)\n",
        "\n",
        "\n",
        "---\n",
        "\n",
        "This tutorial demonstrates detecting and decoding QR codes using OpenCV and Python. It begins with importing required packages, reading the QR code image, and adjusting the bounding box format for display. A `QRCodeDetector` object is created to detect and decode the QR code, measuring the time taken for this process. Decoded data is printed and displayed along with the rectified QR code image."
      ]
    },
    {
      "cell_type": "markdown",
      "id": "6050a2f4-c9ff-4b39-8c06-7d710961b1ed",
      "metadata": {
        "id": "6050a2f4-c9ff-4b39-8c06-7d710961b1ed"
      },
      "source": [
        "### Library Imports\n",
        "Initially, the necessary packages need to imported into the script."
      ]
    },
    {
      "cell_type": "code",
      "execution_count": null,
      "id": "88c3e951-1732-4808-b4a1-98bc9c53426b",
      "metadata": {
        "id": "88c3e951-1732-4808-b4a1-98bc9c53426b"
      },
      "outputs": [],
      "source": [
        "# Required packages\n",
        "import os\n",
        "import cv2\n",
        "import numpy as np\n",
        "import time\n",
        "import requests\n",
        "import matplotlib.pyplot as plt"
      ]
    },
    {
      "cell_type": "markdown",
      "source": [
        "### Download Data\n",
        "Here we are downloading the data using the `requests` library."
      ],
      "metadata": {
        "id": "SjhT0EgZTFdZ"
      },
      "id": "SjhT0EgZTFdZ"
    },
    {
      "cell_type": "code",
      "source": [
        "# Check if the file does not exist before downloading\n",
        "if not os.path.exists(\"Barcode.png\"):\n",
        "    # URL of the file to be downloaded\n",
        "    url = \"https://www.dropbox.com/scl/fi/46yuuwybhrf1uayui61jk/QRcode.png?rlkey=lr2nt0b3321vrdlcfr9by1uyt&dl=1\"\n",
        "\n",
        "    # Make a GET request to the URL\n",
        "    response = requests.get(url)\n",
        "\n",
        "    # Check if the request was successful\n",
        "    if response.status_code == 200:\n",
        "        # Open a file in binary write mode and save the content of the response\n",
        "        with open(\"QRcode.png\", \"wb\") as file:\n",
        "            file.write(response.content)\n",
        "    else:\n",
        "        print(\"Failed to download the file.\")"
      ],
      "metadata": {
        "id": "73qFPhJSdjNV"
      },
      "id": "73qFPhJSdjNV",
      "execution_count": null,
      "outputs": []
    },
    {
      "cell_type": "markdown",
      "source": [
        "### Display Input Image\n",
        "Before trying to decode the QR image, it needs to be read. In the below cell, the directory path to the image is defined. Here, OpenCV's `imread()` method has been used to read the sample image."
      ],
      "metadata": {
        "id": "WgKMMt6Ur30f"
      },
      "id": "WgKMMt6Ur30f"
    },
    {
      "cell_type": "code",
      "execution_count": null,
      "id": "558b8839-3988-4c96-b23c-2593cd351bed",
      "metadata": {
        "id": "558b8839-3988-4c96-b23c-2593cd351bed",
        "colab": {
          "base_uri": "https://localhost:8080/",
          "height": 435
        },
        "outputId": "70bfddde-17ab-436d-d418-6dda02555e9c"
      },
      "outputs": [
        {
          "output_type": "display_data",
          "data": {
            "text/plain": [
              "<Figure size 640x480 with 1 Axes>"
            ],
            "image/png": "[encoded data removed]"
          },
          "metadata": {}
        }
      ],
      "source": [
        "filepath = 'QRcode.png'\n",
        "inputImage = cv2.imread(filepath)\n",
        "plt.imshow(inputImage)\n",
        "plt.show(block=False)"
      ]
    },
    {
      "cell_type": "markdown",
      "id": "1d101b41-6b9b-491b-8a2a-3ae65a7acaeb",
      "metadata": {
        "id": "1d101b41-6b9b-491b-8a2a-3ae65a7acaeb"
      },
      "source": [
        "### Funtion to Display the Output\n",
        "Ensure that the points in the bbox are converted to the correct format before they are used in the `cv2.rectangle` function. The bbox variable is expected to be a list of points, where each point is a list or tuple of two integers representing the x and y coordinates."
      ]
    },
    {
      "cell_type": "code",
      "execution_count": null,
      "id": "1fbe64d4-cf76-471e-89a6-7391fb98891d",
      "metadata": {
        "id": "1fbe64d4-cf76-471e-89a6-7391fb98891d"
      },
      "outputs": [],
      "source": [
        "# Function for correcting the bbox format of qr code detection\n",
        "def display(im, bbox):\n",
        "    pt1 = tuple(int(i) for i in bbox[0][0])\n",
        "    pt2 = tuple(int(i) for i in bbox[0][2])\n",
        "    cv2.rectangle(im, pt1, pt2, (255, 0, 0), 3)\n",
        "\n",
        "    plt.imshow(im[...,::-1])\n",
        "    plt.show()"
      ]
    },
    {
      "cell_type": "markdown",
      "id": "df4c2655-8b0d-4a6a-8a17-a9e067b96a90",
      "metadata": {
        "id": "df4c2655-8b0d-4a6a-8a17-a9e067b96a90"
      },
      "source": [
        "### QRCode Detection\n",
        "In the below cells, a new qrCodeDetector() Object has been created to initialize the detector - as shown in the slides. This allows to detect and then decode the QR information as well."
      ]
    },
    {
      "cell_type": "code",
      "execution_count": null,
      "id": "b7671c83-4a9d-4493-95cb-2450943acaa8",
      "metadata": {
        "id": "b7671c83-4a9d-4493-95cb-2450943acaa8"
      },
      "outputs": [],
      "source": [
        "# Create a qrCodeDetector Object\n",
        "qrDecoder = cv2.QRCodeDetector()"
      ]
    },
    {
      "cell_type": "code",
      "execution_count": null,
      "id": "d8f440bf-c168-4a14-b90c-e13ff101a021",
      "metadata": {
        "id": "d8f440bf-c168-4a14-b90c-e13ff101a021",
        "outputId": "db604d1d-f19c-41de-9794-42bfd8f8fdf0",
        "colab": {
          "base_uri": "https://localhost:8080/"
        }
      },
      "outputs": [
        {
          "output_type": "stream",
          "name": "stdout",
          "text": [
            "Time Taken for Detect and Decode : 0.105 seconds\n"
          ]
        }
      ],
      "source": [
        "# Detect and decode the qrcode\n",
        "t = time.time()\n",
        "data, bbox, rectifiedImage = qrDecoder.detectAndDecode(inputImage)\n",
        "print(\"Time Taken for Detect and Decode : {:.3f} seconds\".format(time.time() - t))"
      ]
    },
    {
      "cell_type": "markdown",
      "id": "867e604f-f633-498d-9574-0e4d5e2e7921",
      "metadata": {
        "id": "867e604f-f633-498d-9574-0e4d5e2e7921"
      },
      "source": [
        "### Displying the Results\n",
        "In the end, the informaton decoded from the QR code can be printed."
      ]
    },
    {
      "cell_type": "code",
      "execution_count": null,
      "id": "add4121a-6d56-4206-b201-a487f6cf4732",
      "metadata": {
        "id": "add4121a-6d56-4206-b201-a487f6cf4732",
        "colab": {
          "base_uri": "https://localhost:8080/",
          "height": 453
        },
        "outputId": "b17120e3-9e6c-4bb6-ba76-0a9944e5681d"
      },
      "outputs": [
        {
          "output_type": "stream",
          "name": "stdout",
          "text": [
            "Decoded Data : https://www.opencv.org/university\n"
          ]
        },
        {
          "output_type": "display_data",
          "data": {
            "text/plain": [
              "<Figure size 640x480 with 1 Axes>"
            ],
            "image/png": "[encoded data removed]"
          },
          "metadata": {}
        }
      ],
      "source": [
        "if len(data)>0:\n",
        "    print(\"Decoded Data : {}\".format(data))\n",
        "    display(inputImage, bbox)\n",
        "    #rectifiedImage = np.uint8(rectifiedImage);\n",
        "    #plt.imshow(rectifiedImage, 'gray')\n",
        "else:\n",
        "    print(\"QR Code not detected\")\n",
        "    plt.imshow(inputImage)\n",
        "\n",
        "plt.show(block=False)"
      ]
    },
    {
      "cell_type": "markdown",
      "source": [
        "### Saving The Results"
      ],
      "metadata": {
        "id": "CqbWU6iwvy02"
      },
      "id": "CqbWU6iwvy02"
    },
    {
      "cell_type": "code",
      "execution_count": null,
      "id": "d33f492d-efd7-4315-89b0-f9a1f32b672d",
      "metadata": {
        "id": "d33f492d-efd7-4315-89b0-f9a1f32b672d",
        "colab": {
          "base_uri": "https://localhost:8080/"
        },
        "outputId": "070c68c7-aab8-4225-bb8e-84a94893bded"
      },
      "outputs": [
        {
          "output_type": "execute_result",
          "data": {
            "text/plain": [
              "True"
            ]
          },
          "metadata": {},
          "execution_count": 8
        }
      ],
      "source": [
        "cv2.imwrite(\"QR-output.jpg\", inputImage)"
      ]
    }
  ],
  "metadata": {
    "kernelspec": {
      "display_name": "Python 3",
      "name": "python3"
    },
    "language_info": {
      "codemirror_mode": {
        "name": "ipython",
        "version": 3
      },
      "file_extension": ".py",
      "mimetype": "text/x-python",
      "name": "python",
      "nbconvert_exporter": "python",
      "pygments_lexer": "ipython3",
      "version": "3.10.13"
    },
    "colab": {
      "provenance": [],
      "include_colab_link": true
    }
  },
  "nbformat": 4,
  "nbformat_minor": 5
}