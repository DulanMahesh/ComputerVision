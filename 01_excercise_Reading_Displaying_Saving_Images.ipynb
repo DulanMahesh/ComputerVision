{
  "cells": [
    {
      "cell_type": "markdown",
      "metadata": {
        "id": "view-in-github",
        "colab_type": "text"
      },
      "source": [
        "<a href=\"https://colab.research.google.com/github/DulanMahesh/ComputerVision/blob/main/01_excercise_Reading_Displaying_Saving_Images.ipynb\" target=\"_parent\"><img src=\"https://colab.research.google.com/assets/colab-badge.svg\" alt=\"Open In Colab\"/></a>"
      ]
    },
    {
      "cell_type": "markdown",
      "metadata": {
        "id": "0I3fluJwBRBW"
      },
      "source": [
        "<h1 style=\"font-size:30px;\">Reading, Displaying and Saving Images</h1>\n",
        "\n",
        "\n",
        "* Reading and displaying images\n",
        "* Accessing image attributes like the datatype and shape\n",
        "* Matrix representation of an image in NumPy\n",
        "* Image coordinates\n",
        "* Saving images\n"
      ]
    },
    {
      "cell_type": "markdown",
      "source": [],
      "metadata": {
        "id": "DW9XecGqOYeE"
      }
    },
    {
      "cell_type": "code",
      "execution_count": null,
      "metadata": {
        "colab": {
          "base_uri": "https://localhost:8080/"
        },
        "id": "_UfXJCkZBRBZ",
        "outputId": "7aa07896-d23b-4db3-8d15-33d8cb82fcfb"
      },
      "outputs": [
        {
          "metadata": {
            "tags": null
          },
          "name": "stdout",
          "output_type": "stream",
          "text": [
            "Downloading Code to Colab Environment\n",
            "module-code.zip     100%[===================>]  31.27M  22.6MB/s    in 1.4s    \n",
            "warning:  stripped absolute path spec from /\n",
            "mapname:  conversion of  failed\n",
            "replace SAVED.jpg? [y]es, [n]o, [A]ll, [N]one, [r]ename: "
          ]
        }
      ],
      "source": [
        "import cv2\n",
        "import numpy as np\n",
        "import matplotlib.pyplot as plt\n",
        "import matplotlib\n",
        "# Tells notebook to render figures in-page.\n",
        "%matplotlib inline\n",
        "from IPython.display import Image\n",
        "\n",
        "if 'google.colab' in str(get_ipython()):\n",
        "    print(\"Downloading Code to Colab Environment\")\n",
        "    !wget https://www.dropbox.com/sh/8mu8erfnvqk3dzu/AABWmDJkjv-TvECMPRKlufNYa?dl=1 -O module-code.zip -q --show-progress\n",
        "    !unzip -qq module-code.zip\n",
        "else:\n",
        "    pass"
      ]
    },
    {
      "cell_type": "markdown",
      "metadata": {
        "id": "XekIdN2ZBRBa"
      },
      "source": [
        "\n",
        "#  1. Displaying Images\n",
        "\n",
        "There are multiple ways to display images and the choice often depends on whether we are working within a Jupyter notebook or with a python script. When using notebooks we will make use of two methods for displaying images. One method will display an image from the file system directly in the browser (notebook). In this case, the image is read and displayed using a single command. This is often helpful for simply displaying an image. Another option is to read the image into a NumPy array using OpenCV and then displaying the image using the **`imshow()`** function from matplotlib. Both methods will be demonstrated in this notebook.\n",
        "\n",
        "Note: There is also an **`imshow()`** method in OpenCV, but this is only recommended for use within python scripts and is not recommended for use within a Jupter notebook. We will cover the use of **`imshow()`** later in the course.\n",
        "\n",
        "## 1.1 Displaying Images Directly in the Browser\n",
        "\n",
        "Let's start with displaying two black and white images that are different sizes. We will use the IPython **`Image()`** function to accomplish this. This is a very convenient way to read and display an image with a single command.  When displaying images directly in the browser using this method the actual size of the image is faithfully rendered."
      ]
    },
    {
      "cell_type": "code",
      "execution_count": null,
      "metadata": {
        "id": "aXbHwHM6BRBb"
      },
      "outputs": [],
      "source": [
        "# Display 18x18 pixel image.\n",
        "Image(filename='img_bw_18x18.png')"
      ]
    },
    {
      "cell_type": "code",
      "execution_count": null,
      "metadata": {
        "id": "JVyr5ZxsBRBb"
      },
      "outputs": [],
      "source": [
        "# Display 64x64 pixel image.\n",
        "Image(filename='img_bw_64x64.png')"
      ]
    },
    {
      "cell_type": "markdown",
      "metadata": {
        "id": "QiPHiBWNBRBc"
      },
      "source": [
        "# 2. Reading Images using OpenCV\n",
        "\n",
        "We will now use the `imread()` function in OpenCV to read images and store them in 2D NumPy arrays.\n",
        "\n",
        "<hr style=\"border:none; height: 4px; background-color:#D3D3D3\" />\n",
        "\n",
        "Reading images in OpenCV is very straightforward. We use the **`imread()`** function which allows us to read different types of images (JPG, PNG, etc…). You can read them as grayscale or color images. You can also read images that contain an Alpha channel.\n",
        "\n",
        "### <font color=\"green\">Function Syntax </font>\n",
        "``` python\n",
        "retval = cv2.imread(filename[, flags])\n",
        "```\n",
        "\n",
        "`retval`: Is the image if it is successfully loaded. Otherwise, it is `None`. This may happen if the filename is wrong or the file is corrupt.\n",
        "\n",
        "The function has **1 required input argument** and one optional flag:\n",
        "\n",
        "\n",
        "1. `filename`: This can be an absolute or relative path. This is a mandatory argument.\n",
        "2. `flags`:    These flags are used to read an image in a particular format (for example, grayscale/color/with alpha channel). This is an **optional argument** with a default value of `cv2.IMREAD_COLOR` or `1` which loads the image as a color image.\n",
        "\n",
        "Before we proceed with some examples, let's also have a look at some of `flags` available.\n",
        "\n",
        "1. **`cv2.IMREAD_GRAYSCALE`** or **`0`**: Loads image in grayscale mode\n",
        "2. **`cv2.IMREAD_COLOR`** or **`1`**: Loads a color image. Any transparency of image will be neglected. It is the default flag.\n",
        "3. **`cv2.IMREAD_UNCHANGED`** or **`-1`**: Loads image using its original channels, which could include the alpha channel.\n",
        "\n",
        "This is just a partial list of the most common flags. See the OpenCV documentation links below for the complete list.\n",
        "### <font color=\"green\">OpenCV Documentation</font>\n",
        "\n",
        "[**`Imread()`**](https://docs.opencv.org/4.5.2/d4/da8/group__imgcodecs.html#ga288b8b3da0892bd651fce07b3bbd3a56)\n",
        "[**`ImreadModes()`**](https://docs.opencv.org/4.5.2/d8/d6a/group__imgcodecs__flags.html#ga61d9b0126a3e57d9277ac48327799c80)\n",
        "\n",
        "<hr style=\"border:none; height: 4px; background-color:#D3D3D3\" />"
      ]
    },
    {
      "cell_type": "markdown",
      "metadata": {
        "id": "d7GATk_2BRBd"
      },
      "source": [
        "## 2.1 Read Image and Display Pixel Level Data\n",
        "\n",
        "Let's now read the 18x18 grayscale image using `imread()` and display the pixel level data for the image. The data associated with each pixel is a representation of the pixel intensity. Most image data is stored as 8-bit unsigned integers (`uint8`), so the intensity values can range from 0 to 255. A value of 0 represents pure black and a value of 255 represents pure white. This image is considered a grayscale image even though it only contains pure black and white."
      ]
    },
    {
      "cell_type": "code",
      "execution_count": null,
      "metadata": {
        "id": "oZosfQjoBRBd"
      },
      "outputs": [],
      "source": [
        "# Read image as grayscale.\n",
        "bw_img = cv2.imread('img_bw_18x18.png', cv2.IMREAD_GRAYSCALE)\n",
        "\n",
        "# Print the image data (pixel values) of a 2D NumPy array.\n",
        "# Each pixel value is 8-bits in the range [0, 255].\n",
        "print(bw_img)"
      ]
    },
    {
      "cell_type": "markdown",
      "metadata": {
        "id": "IhAJ8fTWBRBe"
      },
      "source": [
        "## 2.2 Print Image Data Attributes (shape and data type)"
      ]
    },
    {
      "cell_type": "code",
      "execution_count": null,
      "metadata": {
        "id": "tuai6ZtvBRBe"
      },
      "outputs": [],
      "source": [
        "# Print the size of image.\n",
        "print('Image size is ', bw_img.shape)\n",
        "\n",
        "# Print data-type of image.\n",
        "print('Data type of image is ', bw_img.dtype)"
      ]
    },
    {
      "cell_type": "markdown",
      "metadata": {
        "id": "ocRlNcF1BRBe"
      },
      "source": [
        "# 3. Image Coordinates\n",
        "\n",
        "The coordinate system used to represent image pixel data is shown below. The origin of the cartesian coordinate system is in the upper left corner of the image. The width of the image is measured along the x-axis and the height along the y-axis. When this data is stored in a 2D matrix, the first index position which represents the rows of the matrix corresponds to the y-axis and the second index position corresponds to the x-axis. This coordinate system maintains the convention where the x-axis represents the horizontal direction and the y-axis the vertical direction, but when accessing the data in a numPy array the first index represents the `y` coordinate and the second index represents the `x` coordinate. This indexing specifically applies to 2D arrays, but you should be aware that many functions in OpenCV (and other libraries) may refer to a pixel coordinate in standard mathematical notation `(x,y)`. For example, as we will see in future modules, many functions in OpenCV require a pixel coordinate to be specified as `point(x,y)`. To summarize, when accessing pixel coordinates in a 2D NumPy array the indexing is always `[y,x]`, but there are other times when image coordinates are specified as `(x,y)`.\n",
        "![c0-m1-Image-Coordinates.png](attachment:c0-m1-Image-Coordinates.png)"
      ]
    },
    {
      "cell_type": "markdown",
      "metadata": {
        "id": "bC-cpknNBRBf"
      },
      "source": [
        "# 4. Display Image Data as an \"Image\" using Matplotlib\n",
        "\n",
        "Once the image data is store in a 2D NumPy array we can display it using the matplotlib function `imshow()` as shown below. There are a couple of things to note about the displayed image below:\n",
        "\n",
        "1. The color representation is unexpected.\n",
        "\n",
        "2. The displayed image is a mathematical representation of the image (essentially a \"plot\" of the image data). This image is only 18x18 pixels as indicated by the plot axes, yet its physical size in the browser is much larger. This is very convenient because we can display images of various sizes at an appropriate viewing scale. The size of the plot below is configurable using `plt.figure(figsize=[width, height])`."
      ]
    },
    {
      "cell_type": "code",
      "execution_count": null,
      "metadata": {
        "id": "XG7DYRFMBRBf"
      },
      "outputs": [],
      "source": [
        "# Display the image.\n",
        "plt.imshow(bw_img);"
      ]
    },
    {
      "cell_type": "markdown",
      "metadata": {
        "id": "ZiSqgRJ1BRBf"
      },
      "source": [
        "### <font style=\"color:rgb(50,120,230)\">What happened to the color? </font>\n",
        "Even though the image was read as a grayscale image, it won't necessarily display in \"grayscale\" when using **`imshow()`**. matplotlib uses different color maps to interpret pixel intensities. To properly render this image as a grayscale image we need to specify the proper colormap. As shown below, you can specifically set a grayscale colormap by passing a 2nd (optional) argument to **`imshow()`**.\n",
        "\n",
        "**Note**: To avoid specifying a  specific color map each time you call **`imshow()`** you can include the line below at the top of your notebook where the import statements are located which will set the color map globally.\n",
        "\n",
        "`matplotlib.rc('image', cmap = 'gray')`"
      ]
    },
    {
      "cell_type": "code",
      "execution_count": null,
      "metadata": {
        "id": "l1_8J369BRBf"
      },
      "outputs": [],
      "source": [
        "# Set color map to gray scale for proper rendering.\n",
        "plt.imshow(bw_img, cmap = 'gray');"
      ]
    },
    {
      "cell_type": "markdown",
      "metadata": {
        "id": "Ewt7m-OHBRBg"
      },
      "source": [
        "# 5. Grayscale Image (another example)\n",
        "Let's now consider a grayscale image that contains middle tone (gray) values."
      ]
    },
    {
      "cell_type": "markdown",
      "metadata": {
        "id": "FCGe7z_ZBRBg"
      },
      "source": [
        "### <font style=\"color:rgb(50,120,230)\">Read and display a grayscale image</font>"
      ]
    },
    {
      "cell_type": "code",
      "execution_count": null,
      "metadata": {
        "id": "HUvugVpMBRBg"
      },
      "outputs": [],
      "source": [
        "# Read image as gray scale.\n",
        "MNIST_3_img = cv2.imread('MNIST_3_18x18.png', cv2.IMREAD_GRAYSCALE)\n",
        "\n",
        "# Display the image.\n",
        "plt.imshow(MNIST_3_img, cmap = 'gray');"
      ]
    },
    {
      "cell_type": "markdown",
      "metadata": {
        "id": "rPvSmdbDBRBg"
      },
      "source": [
        "### <font style=\"color:rgb(50,120,230)\">Print the image matrix data"
      ]
    },
    {
      "cell_type": "code",
      "execution_count": null,
      "metadata": {
        "id": "NRTJhnJTBRBg"
      },
      "outputs": [],
      "source": [
        "print(MNIST_3_img)"
      ]
    },
    {
      "cell_type": "markdown",
      "metadata": {
        "id": "_olAEZn8BRBh"
      },
      "source": [
        "# 6. Saving Images\n",
        "\n",
        "<hr   style=\"border:none; height: 4px; background-color: #D3D3D3 \" />\n",
        "\n",
        "Saving images using OpenCV is very straightforward using the function **`imwrite()`**. The function saves the image to the specified file. The image format is chosen based on the filename extension (see **`imread()`** for the list of extensions). In general, only 8-bit single-channel or 3-channel (with 'BGR' channel order) images can be saved using this function (see the OpenCV documentation below for further details).\n",
        "\n",
        "\n",
        "### <font color=\"green\">Function Syntax </font>\n",
        "``` python\n",
        "cv2.imwrite(filename, img[, params])\n",
        "```\n",
        "\n",
        "The function has **2 required arguments**:\n",
        "\n",
        "1. `filename`: This can be an absolute or a relative path.\n",
        "2. `img`: Image or Images to be saved.\n",
        "\n",
        "### <font color=\"green\">OpenCV Documentation</font>\n",
        "\n",
        "[**`imwrite()`**](https://docs.opencv.org/4.5.2/d4/da8/group__imgcodecs.html#gabbc7ef1aa2edfaa87772f1202d67e0ce)\n",
        "[**`imwriteFlags()`**](https://docs.opencv.org/4.5.2/d8/d6a/group__imgcodecs__flags.html#ga292d81be8d76901bff7988d18d2b42ac)\n",
        "\n",
        "<hr   style=\"border:none; height: 4px; background-color: #D3D3D3 \" />"
      ]
    },
    {
      "cell_type": "markdown",
      "metadata": {
        "id": "LLxytIUEBRBh"
      },
      "source": [
        "### <font style=\"color:rgb(50,120,230)\">Read and display an image</font>\n",
        "We will demonstrate the use of **`imwrite()`** by reading an image into a NumPy array and then writting it to the filesystem with a different extension/format."
      ]
    },
    {
      "cell_type": "code",
      "execution_count": null,
      "metadata": {
        "id": "D3AO3VnmBRBh"
      },
      "outputs": [],
      "source": [
        "image = cv2.imread('Apollo-8-Launch.jpg')\n",
        "plt.figure(figsize = [10, 10])\n",
        "plt.imshow(image)\n",
        "plt.title('Apollo-8-Launch.jpg', fontsize = 16);"
      ]
    },
    {
      "cell_type": "markdown",
      "metadata": {
        "id": "0Ki6l2TgBRBh"
      },
      "source": [
        "### <font style=\"color:rgb(50,120,230)\">Save the image as a PNG file </font>"
      ]
    },
    {
      "cell_type": "code",
      "execution_count": null,
      "metadata": {
        "id": "rjt8WzQHBRBh"
      },
      "outputs": [],
      "source": [
        "# Save the image to the file system.\n",
        "cv2.imwrite('Apollo-8-Launch.png', image)"
      ]
    },
    {
      "cell_type": "markdown",
      "metadata": {
        "id": "o2c1kAMmBRBh"
      },
      "source": [
        "### <font style=\"color:rgb(50,120,229)\">Read the saved image and display it</font>"
      ]
    },
    {
      "cell_type": "code",
      "execution_count": null,
      "metadata": {
        "id": "4iAO7byrBRBh"
      },
      "outputs": [],
      "source": [
        "image = cv2.imread('Apollo-8-Launch.png')\n",
        "plt.figure(figsize = [10, 10])\n",
        "plt.imshow(image)\n",
        "plt.title('Apollo-8-Launch.png', fontsize = 16);"
      ]
    },
    {
      "cell_type": "markdown",
      "metadata": {
        "id": "twCd5ZztBRBh"
      },
      "source": [
        "# 7. Exercise\n",
        "\n",
        "Please complete the code in the cell below."
      ]
    },
    {
      "cell_type": "code",
      "execution_count": null,
      "metadata": {
        "id": "iDPogoX7BRBi"
      },
      "outputs": [],
      "source": [
        "# Read the image ('Apollo-11-launch.jpg') using OpenCV imread() as a grayscale image.\n",
        "bw_img =cv2.imread('Apollo-11-launch.jpg',0)\n",
        "print(bw_img)\n",
        "\n",
        "# Print the image width and height.\n",
        "print(f'Image size :',bw_img.shape)\n",
        "\n",
        "height,width = bw_img.shape\n",
        "print(f'height is :',height )\n",
        "print(f'weight is:',width)\n",
        "\n",
        "\n",
        "# Display the image using matplotlib imshow().\n",
        "plt.imshow(bw_img,cmap='gray')\n",
        "\n",
        "# plt.figure(figsize = [10, 10]);\n",
        "plt.figure(figsize = [10, 10]);\n",
        "\n",
        "\n",
        "# Save the image as a PNG file using OpenCV imwrite().\n",
        "cv2.imwrite('Apollo-11-launch.png',bw_img)\n",
        "# YOUR CODE HERE\n"
      ]
    },
    {
      "cell_type": "markdown",
      "metadata": {
        "id": "J2X29PsiBRBi"
      },
      "source": [
        "Your results should look similar to this.\n",
        "\n",
        "![Appolo](https://opencv.org/wp-content/uploads/2021/08/c0-m1-Appolo-Exercise-01-01.png)"
      ]
    }
  ],
  "metadata": {
    "interpreter": {
      "hash": "1e654b3bc3aace0335b326231d51e90ebd214a7f2d0629a648660f7deb4b3382"
    },
    "kernelspec": {
      "display_name": "Python 3 (ipykernel)",
      "language": "python",
      "name": "python3"
    },
    "language_info": {
      "codemirror_mode": {
        "name": "ipython",
        "version": 3
      },
      "file_extension": ".py",
      "mimetype": "text/x-python",
      "name": "python",
      "nbconvert_exporter": "python",
      "pygments_lexer": "ipython3",
      "version": "3.9.7"
    },
    "colab": {
      "provenance": [],
      "include_colab_link": true
    }
  },
  "nbformat": 4,
  "nbformat_minor": 0
}