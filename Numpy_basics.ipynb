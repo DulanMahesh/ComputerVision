{
  "nbformat": 4,
  "nbformat_minor": 0,
  "metadata": {
    "colab": {
      "provenance": [],
      "authorship_tag": "ABX9TyOaj3nSH8YRfKItz28WOq8X",
      "include_colab_link": true
    },
    "kernelspec": {
      "name": "python3",
      "display_name": "Python 3"
    },
    "language_info": {
      "name": "python"
    }
  },
  "cells": [
    {
      "cell_type": "markdown",
      "metadata": {
        "id": "view-in-github",
        "colab_type": "text"
      },
      "source": [
        "<a href=\"https://colab.research.google.com/github/DulanMahesh/ComputerVision/blob/main/Numpy_basics.ipynb\" target=\"_parent\"><img src=\"https://colab.research.google.com/assets/colab-badge.svg\" alt=\"Open In Colab\"/></a>"
      ]
    },
    {
      "cell_type": "code",
      "source": [
        "import numpy as np"
      ],
      "metadata": {
        "id": "G8zG9LOQR-ts"
      },
      "execution_count": 22,
      "outputs": []
    },
    {
      "cell_type": "code",
      "source": [
        "#Numpy basics\n",
        "\n",
        "#Converting python Lists to numpy Arrays\n",
        "\n",
        "py_list =[1,2,3,4,5,6,7]\n",
        "np_array =np.array(py_list)\n",
        "print(np_array)"
      ],
      "metadata": {
        "colab": {
          "base_uri": "https://localhost:8080/"
        },
        "id": "lNMLTylrjRFr",
        "outputId": "e22c74e6-47b5-43bc-88af-27b027df0093"
      },
      "execution_count": 24,
      "outputs": [
        {
          "output_type": "stream",
          "name": "stdout",
          "text": [
            "[1 2 3 4 5 6 7]\n"
          ]
        }
      ]
    },
    {
      "cell_type": "code",
      "source": [
        "py_list = [[1, 2, 3], [4, 5, 6], [7, 8, 9], [10, 11, 12]]\n",
        "\n",
        "np_array= np.array(py_list)\n",
        "\n",
        "print(np_array)"
      ],
      "metadata": {
        "colab": {
          "base_uri": "https://localhost:8080/"
        },
        "id": "-E97JXH7mm4R",
        "outputId": "b8f6370c-637e-41a4-eef2-29e5cef2a96f"
      },
      "execution_count": 26,
      "outputs": [
        {
          "output_type": "stream",
          "name": "stdout",
          "text": [
            "[[ 1  2  3]\n",
            " [ 4  5  6]\n",
            " [ 7  8  9]\n",
            " [10 11 12]]\n"
          ]
        }
      ]
    },
    {
      "cell_type": "code",
      "source": [],
      "metadata": {
        "id": "SSirPtT_upUG"
      },
      "execution_count": null,
      "outputs": []
    },
    {
      "cell_type": "code",
      "source": [
        "#print first row\n",
        "print(format(np_array[0]))"
      ],
      "metadata": {
        "colab": {
          "base_uri": "https://localhost:8080/"
        },
        "id": "krnBYW8GuORP",
        "outputId": "c6a7958b-2327-417c-fbd2-2fc09b69eab3"
      },
      "execution_count": 34,
      "outputs": [
        {
          "output_type": "stream",
          "name": "stdout",
          "text": [
            "[1 2 3]\n"
          ]
        }
      ]
    },
    {
      "cell_type": "code",
      "source": [
        "print(format(np_array[0, :]))    #  : Refers to all columns in that first row"
      ],
      "metadata": {
        "colab": {
          "base_uri": "https://localhost:8080/"
        },
        "id": "K5muedakv-kl",
        "outputId": "4e8de9e9-4ca2-48cd-fd96-70bc88cabd6b"
      },
      "execution_count": 37,
      "outputs": [
        {
          "output_type": "stream",
          "name": "stdout",
          "text": [
            "[1 2 3]\n"
          ]
        }
      ]
    },
    {
      "cell_type": "code",
      "source": [
        "#print forst column\n",
        "print(format(np_array[:, 0]))"
      ],
      "metadata": {
        "colab": {
          "base_uri": "https://localhost:8080/"
        },
        "id": "cHtCwPbTwuIc",
        "outputId": "24c5eebf-22f2-4a9d-d207-ad412a033ffe"
      },
      "execution_count": 38,
      "outputs": [
        {
          "output_type": "stream",
          "name": "stdout",
          "text": [
            "[ 1  4  7 10]\n"
          ]
        }
      ]
    },
    {
      "cell_type": "code",
      "source": [
        "#print 3rd row 2nd column element\n",
        "\n",
        "print(format(np_array[2, 1]))"
      ],
      "metadata": {
        "colab": {
          "base_uri": "https://localhost:8080/"
        },
        "id": "r4d7xHb71m5m",
        "outputId": "e8a2beee-80e2-4d39-afe4-0eb7d021ded2"
      },
      "execution_count": 39,
      "outputs": [
        {
          "output_type": "stream",
          "name": "stdout",
          "text": [
            "8\n"
          ]
        }
      ]
    },
    {
      "cell_type": "code",
      "source": [
        "# print 2nd row onwards and 2nd column onwards\n",
        "\n",
        "print(format(np_array[1:, 1:]))"
      ],
      "metadata": {
        "colab": {
          "base_uri": "https://localhost:8080/"
        },
        "id": "6UpFWsqz14vy",
        "outputId": "189a030a-76e3-4dce-bcab-a431f1b7770c"
      },
      "execution_count": 40,
      "outputs": [
        {
          "output_type": "stream",
          "name": "stdout",
          "text": [
            "[[ 5  6]\n",
            " [ 8  9]\n",
            " [11 12]]\n"
          ]
        }
      ]
    },
    {
      "cell_type": "code",
      "source": [
        "# print last 2 rows and last 2 columns\n",
        "\n",
        "print(format(np_array[-2:, -2:]))"
      ],
      "metadata": {
        "colab": {
          "base_uri": "https://localhost:8080/"
        },
        "id": "NHo8xfNr3sxa",
        "outputId": "4095e154-0f86-47b8-e055-4d00a5e4bec7"
      },
      "execution_count": 42,
      "outputs": [
        {
          "output_type": "stream",
          "name": "stdout",
          "text": [
            "[[ 8  9]\n",
            " [11 12]]\n"
          ]
        }
      ]
    },
    {
      "cell_type": "code",
      "source": [
        "#print 3rd ,1st and 4th row\n",
        "\n",
        "print(format(np_array[[2, 0, 3]]))"
      ],
      "metadata": {
        "colab": {
          "base_uri": "https://localhost:8080/"
        },
        "id": "X1lnwWA74w4c",
        "outputId": "98ac2b01-33ad-4d84-d0b0-7158ba88572e"
      },
      "execution_count": 43,
      "outputs": [
        {
          "output_type": "stream",
          "name": "stdout",
          "text": [
            "Array with 3rd, 1st, and 4th row:\n",
            "[[ 7  8  9]\n",
            " [ 1  2  3]\n",
            " [10 11 12]]\n",
            "\n"
          ]
        }
      ]
    },
    {
      "cell_type": "code",
      "source": [
        "#print 1st and 3rd column\n",
        "\n",
        "print(format(np_array[:, [0, 2]]))"
      ],
      "metadata": {
        "colab": {
          "base_uri": "https://localhost:8080/"
        },
        "id": "az7_b0mQ5V0x",
        "outputId": "3b33daea-3b54-4588-f001-9861e2c22db9"
      },
      "execution_count": 44,
      "outputs": [
        {
          "output_type": "stream",
          "name": "stdout",
          "text": [
            "[[ 1  3]\n",
            " [ 4  6]\n",
            " [ 7  9]\n",
            " [10 12]]\n"
          ]
        }
      ]
    },
    {
      "cell_type": "code",
      "source": [
        "#create convienient function to print array information\n",
        "\n",
        "def array_info(array):\n",
        "  print('Array:\\n{}'.format(array))\n",
        "  print('Data type:\\t{}'.format(array.dtype))\n",
        "  print('Array shape:\\t{}\\n'.format(array.shape))"
      ],
      "metadata": {
        "id": "OffzVtGtHfYL"
      },
      "execution_count": 46,
      "outputs": []
    },
    {
      "cell_type": "code",
      "source": [
        "array_info(np_array)"
      ],
      "metadata": {
        "colab": {
          "base_uri": "https://localhost:8080/"
        },
        "id": "BMprRPfaH2Xw",
        "outputId": "e350703a-fa41-41cc-fa0d-4ae05ba1e75f"
      },
      "execution_count": 47,
      "outputs": [
        {
          "output_type": "stream",
          "name": "stdout",
          "text": [
            "Array:\n",
            "[[ 1  2  3]\n",
            " [ 4  5  6]\n",
            " [ 7  8  9]\n",
            " [10 11 12]]\n",
            "Data type:\tint64\n",
            "Array shape:\t(4, 3)\n",
            "\n"
          ]
        }
      ]
    },
    {
      "cell_type": "code",
      "source": [
        "#creates a NumPy array of integers from 0 to 9 with the data type specified as int64\n",
        "\n",
        "# Sequence array.\n",
        "array = np.arange(10, dtype=np.int64)   # here 0 is including and 10 is excluding in the result set\n",
        "\n",
        "array_info(array)"
      ],
      "metadata": {
        "colab": {
          "base_uri": "https://localhost:8080/"
        },
        "id": "0c7aquUmIZg-",
        "outputId": "b1550e89-49db-4460-aecb-a49dba510f72"
      },
      "execution_count": 51,
      "outputs": [
        {
          "output_type": "stream",
          "name": "stdout",
          "text": [
            "Array:\n",
            "[0 1 2 3 4 5 6 7 8 9]\n",
            "Data type:\tint64\n",
            "Array shape:\t(10,)\n",
            "\n"
          ]
        }
      ]
    },
    {
      "cell_type": "code",
      "source": [
        "# Sequence array.starting from 5 to 10 in the steps of 2\n",
        "array = np.arange(5, 10, 2, dtype=np.float32)\n",
        "array_info(array)"
      ],
      "metadata": {
        "colab": {
          "base_uri": "https://localhost:8080/"
        },
        "id": "IitdAsW2REqv",
        "outputId": "f75ff3df-68e3-4348-ad13-342a7630efb1"
      },
      "execution_count": 52,
      "outputs": [
        {
          "output_type": "stream",
          "name": "stdout",
          "text": [
            "Array:\n",
            "[5. 7. 9.]\n",
            "Data type:\tfloat32\n",
            "Array shape:\t(3,)\n",
            "\n"
          ]
        }
      ]
    }
  ]
}