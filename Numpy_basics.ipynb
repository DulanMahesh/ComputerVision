{
  "nbformat": 4,
  "nbformat_minor": 0,
  "metadata": {
    "colab": {
      "provenance": [],
      "authorship_tag": "ABX9TyMS30xab86NvbXO+qHE4tAU",
      "include_colab_link": true
    },
    "kernelspec": {
      "name": "python3",
      "display_name": "Python 3"
    },
    "language_info": {
      "name": "python"
    }
  },
  "cells": [
    {
      "cell_type": "markdown",
      "metadata": {
        "id": "view-in-github",
        "colab_type": "text"
      },
      "source": [
        "<a href=\"https://colab.research.google.com/github/DulanMahesh/ComputerVision/blob/main/Numpy_basics.ipynb\" target=\"_parent\"><img src=\"https://colab.research.google.com/assets/colab-badge.svg\" alt=\"Open In Colab\"/></a>"
      ]
    },
    {
      "cell_type": "code",
      "source": [
        "import numpy as np"
      ],
      "metadata": {
        "id": "G8zG9LOQR-ts"
      },
      "execution_count": 22,
      "outputs": []
    },
    {
      "cell_type": "code",
      "source": [],
      "metadata": {
        "id": "bIrymAW7xKpy"
      },
      "execution_count": null,
      "outputs": []
    },
    {
      "cell_type": "code",
      "source": [
        "#Numpy basics\n",
        "\n",
        "#Converting python Lists to numpy Arrays\n",
        "\n",
        "py_list =[1,2,3,4,5,6,7]\n",
        "np_array =np.array(py_list)\n",
        "print(np_array)"
      ],
      "metadata": {
        "colab": {
          "base_uri": "https://localhost:8080/"
        },
        "id": "lNMLTylrjRFr",
        "outputId": "e22c74e6-47b5-43bc-88af-27b027df0093"
      },
      "execution_count": 24,
      "outputs": [
        {
          "output_type": "stream",
          "name": "stdout",
          "text": [
            "[1 2 3 4 5 6 7]\n"
          ]
        }
      ]
    },
    {
      "cell_type": "code",
      "source": [
        "py_list = [[1, 2, 3], [4, 5, 6], [7, 8, 9], [10, 11, 12]]\n",
        "\n",
        "np_array= np.array(py_list)\n",
        "\n",
        "print(np_array)"
      ],
      "metadata": {
        "colab": {
          "base_uri": "https://localhost:8080/"
        },
        "id": "-E97JXH7mm4R",
        "outputId": "b8f6370c-637e-41a4-eef2-29e5cef2a96f"
      },
      "execution_count": 26,
      "outputs": [
        {
          "output_type": "stream",
          "name": "stdout",
          "text": [
            "[[ 1  2  3]\n",
            " [ 4  5  6]\n",
            " [ 7  8  9]\n",
            " [10 11 12]]\n"
          ]
        }
      ]
    },
    {
      "cell_type": "code",
      "source": [],
      "metadata": {
        "id": "SSirPtT_upUG"
      },
      "execution_count": null,
      "outputs": []
    },
    {
      "cell_type": "code",
      "source": [
        "#print first row\n",
        "print(format(np_array[0]))"
      ],
      "metadata": {
        "colab": {
          "base_uri": "https://localhost:8080/"
        },
        "id": "krnBYW8GuORP",
        "outputId": "c6a7958b-2327-417c-fbd2-2fc09b69eab3"
      },
      "execution_count": 34,
      "outputs": [
        {
          "output_type": "stream",
          "name": "stdout",
          "text": [
            "[1 2 3]\n"
          ]
        }
      ]
    },
    {
      "cell_type": "code",
      "source": [
        "print(format(np_array[0, :]))    #  : Refers to all columns in that first row"
      ],
      "metadata": {
        "colab": {
          "base_uri": "https://localhost:8080/"
        },
        "id": "K5muedakv-kl",
        "outputId": "4e8de9e9-4ca2-48cd-fd96-70bc88cabd6b"
      },
      "execution_count": 37,
      "outputs": [
        {
          "output_type": "stream",
          "name": "stdout",
          "text": [
            "[1 2 3]\n"
          ]
        }
      ]
    },
    {
      "cell_type": "code",
      "source": [
        "#print forst column\n",
        "print(format(np_array[:, 0]))"
      ],
      "metadata": {
        "colab": {
          "base_uri": "https://localhost:8080/"
        },
        "id": "cHtCwPbTwuIc",
        "outputId": "24c5eebf-22f2-4a9d-d207-ad412a033ffe"
      },
      "execution_count": 38,
      "outputs": [
        {
          "output_type": "stream",
          "name": "stdout",
          "text": [
            "[ 1  4  7 10]\n"
          ]
        }
      ]
    },
    {
      "cell_type": "code",
      "source": [
        "#print 3rd row 2nd column element\n",
        "\n",
        "print(format(np_array[2, 1]))"
      ],
      "metadata": {
        "colab": {
          "base_uri": "https://localhost:8080/"
        },
        "id": "r4d7xHb71m5m",
        "outputId": "e8a2beee-80e2-4d39-afe4-0eb7d021ded2"
      },
      "execution_count": 39,
      "outputs": [
        {
          "output_type": "stream",
          "name": "stdout",
          "text": [
            "8\n"
          ]
        }
      ]
    },
    {
      "cell_type": "code",
      "source": [
        "# print 2nd row onwards and 2nd column onwards\n",
        "\n",
        "print(format(np_array[1:, 1:]))"
      ],
      "metadata": {
        "colab": {
          "base_uri": "https://localhost:8080/"
        },
        "id": "6UpFWsqz14vy",
        "outputId": "189a030a-76e3-4dce-bcab-a431f1b7770c"
      },
      "execution_count": 40,
      "outputs": [
        {
          "output_type": "stream",
          "name": "stdout",
          "text": [
            "[[ 5  6]\n",
            " [ 8  9]\n",
            " [11 12]]\n"
          ]
        }
      ]
    },
    {
      "cell_type": "code",
      "source": [
        "# print last 2 rows and last 2 columns\n",
        "\n",
        "print(format(np_array[-2:, -2:]))"
      ],
      "metadata": {
        "colab": {
          "base_uri": "https://localhost:8080/"
        },
        "id": "NHo8xfNr3sxa",
        "outputId": "4095e154-0f86-47b8-e055-4d00a5e4bec7"
      },
      "execution_count": 42,
      "outputs": [
        {
          "output_type": "stream",
          "name": "stdout",
          "text": [
            "[[ 8  9]\n",
            " [11 12]]\n"
          ]
        }
      ]
    },
    {
      "cell_type": "code",
      "source": [
        "#print 3rd ,1st and 4th row\n",
        "\n",
        "print(format(np_array[[2, 0, 3]]))"
      ],
      "metadata": {
        "colab": {
          "base_uri": "https://localhost:8080/"
        },
        "id": "X1lnwWA74w4c",
        "outputId": "98ac2b01-33ad-4d84-d0b0-7158ba88572e"
      },
      "execution_count": 43,
      "outputs": [
        {
          "output_type": "stream",
          "name": "stdout",
          "text": [
            "Array with 3rd, 1st, and 4th row:\n",
            "[[ 7  8  9]\n",
            " [ 1  2  3]\n",
            " [10 11 12]]\n",
            "\n"
          ]
        }
      ]
    },
    {
      "cell_type": "code",
      "source": [
        "#print 1st and 3rd column\n",
        "\n",
        "print(format(np_array[:, [0, 2]]))"
      ],
      "metadata": {
        "colab": {
          "base_uri": "https://localhost:8080/"
        },
        "id": "az7_b0mQ5V0x",
        "outputId": "3b33daea-3b54-4588-f001-9861e2c22db9"
      },
      "execution_count": 44,
      "outputs": [
        {
          "output_type": "stream",
          "name": "stdout",
          "text": [
            "[[ 1  3]\n",
            " [ 4  6]\n",
            " [ 7  9]\n",
            " [10 12]]\n"
          ]
        }
      ]
    },
    {
      "cell_type": "code",
      "source": [
        "#create convienient function to print array information\n",
        "\n",
        "def array_info(array):\n",
        "  print('Array:\\n{}'.format(array))\n",
        "  print('Data type:\\t{}'.format(array.dtype))\n",
        "  print('Array shape:\\t{}\\n'.format(array.shape))"
      ],
      "metadata": {
        "id": "OffzVtGtHfYL"
      },
      "execution_count": 46,
      "outputs": []
    },
    {
      "cell_type": "code",
      "source": [
        "array_info(np_array)"
      ],
      "metadata": {
        "colab": {
          "base_uri": "https://localhost:8080/"
        },
        "id": "BMprRPfaH2Xw",
        "outputId": "e350703a-fa41-41cc-fa0d-4ae05ba1e75f"
      },
      "execution_count": 47,
      "outputs": [
        {
          "output_type": "stream",
          "name": "stdout",
          "text": [
            "Array:\n",
            "[[ 1  2  3]\n",
            " [ 4  5  6]\n",
            " [ 7  8  9]\n",
            " [10 11 12]]\n",
            "Data type:\tint64\n",
            "Array shape:\t(4, 3)\n",
            "\n"
          ]
        }
      ]
    },
    {
      "cell_type": "code",
      "source": [
        "#creates a NumPy array of integers from 0 to 9 with the data type specified as int64\n",
        "\n",
        "# Sequence array.\n",
        "array = np.arange(10, dtype=np.int64)   # here 0 is including and 10 is excluding in the result set\n",
        "\n",
        "array_info(array)"
      ],
      "metadata": {
        "colab": {
          "base_uri": "https://localhost:8080/"
        },
        "id": "0c7aquUmIZg-",
        "outputId": "b1550e89-49db-4460-aecb-a49dba510f72"
      },
      "execution_count": 51,
      "outputs": [
        {
          "output_type": "stream",
          "name": "stdout",
          "text": [
            "Array:\n",
            "[0 1 2 3 4 5 6 7 8 9]\n",
            "Data type:\tint64\n",
            "Array shape:\t(10,)\n",
            "\n"
          ]
        }
      ]
    },
    {
      "cell_type": "code",
      "source": [
        "# Sequence array.starting from 5 to 10 in the steps of 2\n",
        "array = np.arange(5, 10, 2, dtype=np.float32)\n",
        "array_info(array)"
      ],
      "metadata": {
        "colab": {
          "base_uri": "https://localhost:8080/"
        },
        "id": "IitdAsW2REqv",
        "outputId": "f75ff3df-68e3-4348-ad13-342a7630efb1"
      },
      "execution_count": 52,
      "outputs": [
        {
          "output_type": "stream",
          "name": "stdout",
          "text": [
            "Array:\n",
            "[5. 7. 9.]\n",
            "Data type:\tfloat32\n",
            "Array shape:\t(3,)\n",
            "\n"
          ]
        }
      ]
    },
    {
      "cell_type": "code",
      "source": [
        "#linespace -to Returns num evenly spaced samples, calculated over the interval\n",
        "\n",
        "linespace = np.linspace(0, 5, 7, dtype=np.float32)   # 7 elements between 0 and 5\n",
        "print(linespace)"
      ],
      "metadata": {
        "colab": {
          "base_uri": "https://localhost:8080/"
        },
        "id": "ymsZ5yAVxNiQ",
        "outputId": "3032759e-6125-4451-9232-ec16938781e0"
      },
      "execution_count": 57,
      "outputs": [
        {
          "output_type": "stream",
          "name": "stdout",
          "text": [
            "[0.        0.8333333 1.6666666 2.5       3.3333333 4.1666665 5.       ]\n"
          ]
        }
      ]
    },
    {
      "cell_type": "code",
      "source": [
        "# Zeros array -To Creates array filled with zeros\n",
        "\n",
        "zeros = np.zeros((2, 3), dtype=np.float32)\n",
        "array_info(zeros)"
      ],
      "metadata": {
        "colab": {
          "base_uri": "https://localhost:8080/"
        },
        "id": "1mR3ukzKz9yO",
        "outputId": "fb669acf-6858-4114-ad4e-ad4644c0867d"
      },
      "execution_count": 58,
      "outputs": [
        {
          "output_type": "stream",
          "name": "stdout",
          "text": [
            "Array:\n",
            "[[0. 0. 0.]\n",
            " [0. 0. 0.]]\n",
            "Data type:\tfloat32\n",
            "Array shape:\t(2, 3)\n",
            "\n"
          ]
        }
      ]
    },
    {
      "cell_type": "code",
      "source": [
        "#ones array\n",
        "\n",
        "ones =np.ones((2,3))\n",
        "array_info(ones)"
      ],
      "metadata": {
        "colab": {
          "base_uri": "https://localhost:8080/"
        },
        "id": "_QHDK2EL0huU",
        "outputId": "91033566-fe98-4115-bd31-d7f418013a82"
      },
      "execution_count": 59,
      "outputs": [
        {
          "output_type": "stream",
          "name": "stdout",
          "text": [
            "Array:\n",
            "[[1. 1. 1.]\n",
            " [1. 1. 1.]]\n",
            "Data type:\tfloat64\n",
            "Array shape:\t(2, 3)\n",
            "\n"
          ]
        }
      ]
    },
    {
      "cell_type": "code",
      "source": [
        "# Constant array/matrix.\n",
        "array = np.full((3, 3), 3.14)  # constant array means display number is constant\n",
        "array_info(array)"
      ],
      "metadata": {
        "colab": {
          "base_uri": "https://localhost:8080/"
        },
        "id": "f24jVlyu37En",
        "outputId": "217ccb52-dbd4-4921-8a69-98064597dc0d"
      },
      "execution_count": 60,
      "outputs": [
        {
          "output_type": "stream",
          "name": "stdout",
          "text": [
            "Array:\n",
            "[[3.14 3.14 3.14]\n",
            " [3.14 3.14 3.14]\n",
            " [3.14 3.14 3.14]]\n",
            "Data type:\tfloat64\n",
            "Array shape:\t(3, 3)\n",
            "\n"
          ]
        }
      ]
    },
    {
      "cell_type": "code",
      "source": [
        "#Identity array where All the diagonal elements (from the top left to the bottom right) are 1 and All the non-diagonal elements are 0\n",
        "\n",
        "identity = np.eye(5, dtype=np.float32)  # Identity matrix of shape 5x5\n",
        "array_info(identity)\n",
        "\n"
      ],
      "metadata": {
        "colab": {
          "base_uri": "https://localhost:8080/"
        },
        "id": "cClOVGWx-Sai",
        "outputId": "a2fe439d-fa57-4253-eb9d-5ff8f59a56a6"
      },
      "execution_count": 61,
      "outputs": [
        {
          "output_type": "stream",
          "name": "stdout",
          "text": [
            "Array:\n",
            "[[1. 0. 0. 0. 0.]\n",
            " [0. 1. 0. 0. 0.]\n",
            " [0. 0. 1. 0. 0.]\n",
            " [0. 0. 0. 1. 0.]\n",
            " [0. 0. 0. 0. 1.]]\n",
            "Data type:\tfloat32\n",
            "Array shape:\t(5, 5)\n",
            "\n"
          ]
        }
      ]
    },
    {
      "cell_type": "code",
      "source": [
        "#Random integers array\n",
        "\n",
        "rand_int =np.random.randint(0,10,(2,3))\n",
        "\n",
        "print(rand_int)"
      ],
      "metadata": {
        "colab": {
          "base_uri": "https://localhost:8080/"
        },
        "id": "pAKP6xPX--f1",
        "outputId": "e4df4b2a-00cb-4df2-e6f9-8c12e25c7253"
      },
      "execution_count": 62,
      "outputs": [
        {
          "output_type": "stream",
          "name": "stdout",
          "text": [
            "[[3 8 0]\n",
            " [7 1 0]]\n"
          ]
        }
      ]
    },
    {
      "cell_type": "code",
      "source": [
        "#Random array of 5*5 float elements\n",
        "\n",
        "# Random array/matrix.\n",
        "random_array = np.random.random((5, 5))   # Random array of shape 5x5.\n",
        "array_info(random_array)"
      ],
      "metadata": {
        "colab": {
          "base_uri": "https://localhost:8080/"
        },
        "id": "k8kB-P65_ll9",
        "outputId": "6d10e919-d211-46b1-82b5-d3ad4da95833"
      },
      "execution_count": 63,
      "outputs": [
        {
          "output_type": "stream",
          "name": "stdout",
          "text": [
            "Array:\n",
            "[[0.10030457 0.72363905 0.31236922 0.28657208 0.1226605 ]\n",
            " [0.76146733 0.07187825 0.9491626  0.85155099 0.09015555]\n",
            " [0.26795434 0.18247066 0.08678181 0.11374145 0.53253845]\n",
            " [0.31166625 0.6792181  0.24546613 0.01541897 0.06293065]\n",
            " [0.35424378 0.90859675 0.75387625 0.94084818 0.29731167]]\n",
            "Data type:\tfloat64\n",
            "Array shape:\t(5, 5)\n",
            "\n"
          ]
        }
      ]
    },
    {
      "cell_type": "code",
      "source": [
        "# boolian array(cordinate with previously developed random_array)\n",
        "\n",
        "bool_array =random_array>0.5 # true if the random_array element is larger than 0.5\n",
        "\n",
        "print(bool_array)"
      ],
      "metadata": {
        "colab": {
          "base_uri": "https://localhost:8080/"
        },
        "id": "G7EiDPVGZq3W",
        "outputId": "63442bc8-ac5c-49f7-de19-de7ce17937bb"
      },
      "execution_count": 64,
      "outputs": [
        {
          "output_type": "stream",
          "name": "stdout",
          "text": [
            "[[False  True False False False]\n",
            " [ True False  True  True False]\n",
            " [False False False False  True]\n",
            " [False  True False False False]\n",
            " [False  True  True  True False]]\n"
          ]
        }
      ]
    },
    {
      "cell_type": "code",
      "source": [
        "# Data type conversion\n",
        "\n",
        "age_in_years =np.random.randint(0,100,10)    # first create array of 10 random integers between 0 and 99.\n",
        "\n",
        "array_info(age_in_years)"
      ],
      "metadata": {
        "colab": {
          "base_uri": "https://localhost:8080/"
        },
        "id": "yLKKh-H4a_1p",
        "outputId": "dd1ee3f6-c922-4c2e-8861-7a50ccf8bf2f"
      },
      "execution_count": 67,
      "outputs": [
        {
          "output_type": "stream",
          "name": "stdout",
          "text": [
            "Array:\n",
            "[95 84 37 93 41 93 84 94 76 43]\n",
            "Data type:\tint64\n",
            "Array shape:\t(10,)\n",
            "\n"
          ]
        }
      ]
    },
    {
      "cell_type": "code",
      "source": [
        "# convert int64 data type to uint8 data type\n",
        "\n",
        "age_in_years =age_in_years.astype(np.uint8)\n",
        "array_info(age_in_years)"
      ],
      "metadata": {
        "colab": {
          "base_uri": "https://localhost:8080/"
        },
        "id": "fb7NGxhyc0gL",
        "outputId": "3719efa0-a62d-4f4b-f551-876c6f0b5823"
      },
      "execution_count": 68,
      "outputs": [
        {
          "output_type": "stream",
          "name": "stdout",
          "text": [
            "Array:\n",
            "[95 84 37 93 41 93 84 94 76 43]\n",
            "Data type:\tuint8\n",
            "Array shape:\t(10,)\n",
            "\n"
          ]
        }
      ]
    },
    {
      "cell_type": "code",
      "source": [
        "# Mathematical functions\n",
        "\n",
        "#exponenetial function -To Calculate the exponential of all elements in the input array.\n",
        "array = np.array([np.full(3, -1), np.zeros(3), np.ones(3)]) # create a 3x3 matrix where 1st,2nd and 3rd rows are filled with -1 ,0,+1 respective;y\n",
        "array_info(array)\n",
        "\n",
        "\n"
      ],
      "metadata": {
        "colab": {
          "base_uri": "https://localhost:8080/"
        },
        "id": "ZRkaDttKddO0",
        "outputId": "3bbe37b1-1b59-48e1-841a-e7405bdab0f1"
      },
      "execution_count": 73,
      "outputs": [
        {
          "output_type": "stream",
          "name": "stdout",
          "text": [
            "Array:\n",
            "[[-1. -1. -1.]\n",
            " [ 0.  0.  0.]\n",
            " [ 1.  1.  1.]]\n",
            "Data type:\tfloat64\n",
            "Array shape:\t(3, 3)\n",
            "\n"
          ]
        }
      ]
    },
    {
      "cell_type": "code",
      "source": [
        "exp_array = np.exp(array) # The NumPy function np.exp() computes the exponent of Euler's number e=2.718 raised to the power of each element in the input array\n",
        "\n",
        "array_info(exp_array)"
      ],
      "metadata": {
        "colab": {
          "base_uri": "https://localhost:8080/"
        },
        "id": "K0wOQONEiWt9",
        "outputId": "590f8fa6-e9ae-4627-827c-b22ec436921a"
      },
      "execution_count": 75,
      "outputs": [
        {
          "output_type": "stream",
          "name": "stdout",
          "text": [
            "Array:\n",
            "[[0.36787944 0.36787944 0.36787944]\n",
            " [1.         1.         1.        ]\n",
            " [2.71828183 2.71828183 2.71828183]]\n",
            "Data type:\tfloat64\n",
            "Array shape:\t(3, 3)\n",
            "\n"
          ]
        }
      ]
    },
    {
      "cell_type": "code",
      "source": [
        "#Square root function(sqrt)\n",
        "\n",
        "array = np.arange(10)      #array will contain integers starting from 0 up to 9, resulting in a 1D array with 10 elements.\n",
        "array_info(array)\n",
        "\n",
        "root_array = np.sqrt(array)# this gives the square root value for the each given element.notice the data type is also changed\n",
        "array_info(root_array)"
      ],
      "metadata": {
        "colab": {
          "base_uri": "https://localhost:8080/"
        },
        "id": "MMGUILOgkXO_",
        "outputId": "b6f5c84c-85eb-4e89-c43a-6ea97804e567"
      },
      "execution_count": 77,
      "outputs": [
        {
          "output_type": "stream",
          "name": "stdout",
          "text": [
            "Array:\n",
            "[0 1 2 3 4 5 6 7 8 9]\n",
            "Data type:\tint64\n",
            "Array shape:\t(10,)\n",
            "\n",
            "Array:\n",
            "[0.         1.         1.41421356 1.73205081 2.         2.23606798\n",
            " 2.44948974 2.64575131 2.82842712 3.        ]\n",
            "Data type:\tfloat64\n",
            "Array shape:\t(10,)\n",
            "\n"
          ]
        }
      ]
    },
    {
      "cell_type": "code",
      "source": [
        "#Logrithm\n",
        "\n",
        "array = np.array([0, np.exp(1), np.exp(1)**2, 1, 10]) # The first element is simply 0, The second element is e is euler number which is 2.718, the 3rd element is euler number * euler number which is 7.3890, 4th element is 1 and 5th element is 10\n",
        "array_info(array)\n",
        "\n",
        "print('Logrithm:')\n",
        "log_array = np.log(array)\n",
        "array_info(log_array)"
      ],
      "metadata": {
        "colab": {
          "base_uri": "https://localhost:8080/"
        },
        "id": "znaoFx6Nl08O",
        "outputId": "7bf05ae5-0291-4eda-d536-780a1493f4dc"
      },
      "execution_count": 79,
      "outputs": [
        {
          "output_type": "stream",
          "name": "stdout",
          "text": [
            "Array:\n",
            "[ 0.          2.71828183  7.3890561   1.         10.        ]\n",
            "Data type:\tfloat64\n",
            "Array shape:\t(5,)\n",
            "\n",
            "Logrithm:\n",
            "Array:\n",
            "[      -inf 1.         2.         0.         2.30258509]\n",
            "Data type:\tfloat64\n",
            "Array shape:\t(5,)\n",
            "\n"
          ]
        },
        {
          "output_type": "stream",
          "name": "stderr",
          "text": [
            "<ipython-input-79-1d073e995467>:7: RuntimeWarning: divide by zero encountered in log\n",
            "  log_array = np.log(array)\n"
          ]
        }
      ]
    },
    {
      "cell_type": "code",
      "source": [
        "# Power -Returns first array elements raised to powers from second array, element-wise.\n",
        "\n",
        "array = np.arange(0, 6, dtype=np.int64)\n",
        "array_info(array)\n",
        "\n",
        "pow_array = np.power(array, 3) # gives the power of 3 for the each element\n",
        "array_info(pow_array)"
      ],
      "metadata": {
        "colab": {
          "base_uri": "https://localhost:8080/"
        },
        "id": "Kc-658cTnfOg",
        "outputId": "d556d80d-f459-4e23-817a-e6224f84de83"
      },
      "execution_count": 81,
      "outputs": [
        {
          "output_type": "stream",
          "name": "stdout",
          "text": [
            "Array:\n",
            "[0 1 2 3 4 5]\n",
            "Data type:\tint64\n",
            "Array shape:\t(6,)\n",
            "\n",
            "Array:\n",
            "[  0   1   8  27  64 125]\n",
            "Data type:\tint64\n",
            "Array shape:\t(6,)\n",
            "\n"
          ]
        }
      ]
    },
    {
      "cell_type": "code",
      "source": [
        "# Clip values\n",
        "array = np.random.random((3, 3))      #generates a 3x3 array of random floating-point numbers between 0 and 1.\n",
        "array_info(array)"
      ],
      "metadata": {
        "colab": {
          "base_uri": "https://localhost:8080/"
        },
        "id": "N0Se8WXHoVcf",
        "outputId": "6a46955c-afcf-4105-e4fd-16dd5f271f71"
      },
      "execution_count": 82,
      "outputs": [
        {
          "output_type": "stream",
          "name": "stdout",
          "text": [
            "Array:\n",
            "[[0.87461818 0.38342598 0.0481729 ]\n",
            " [0.25013001 0.81578776 0.82213144]\n",
            " [0.14250276 0.19574546 0.45129442]]\n",
            "Data type:\tfloat64\n",
            "Array shape:\t(3, 3)\n",
            "\n"
          ]
        }
      ]
    },
    {
      "cell_type": "code",
      "source": [
        "# Clipped between 0.2 and 0.5\n",
        "\n",
        "cliped_array = np.clip(array, 0.2, 0.5) # . Any value below 0.2 is set to 0.2.Any value above 0.5 is set to 0.5.but Values that fall between 0.2 and 0.5 remain unchanged\n",
        "array_info(cliped_array)"
      ],
      "metadata": {
        "colab": {
          "base_uri": "https://localhost:8080/"
        },
        "id": "mq3pLFU1pM5k",
        "outputId": "f3619c9a-79bf-4ebb-832c-f207bda139d0"
      },
      "execution_count": 84,
      "outputs": [
        {
          "output_type": "stream",
          "name": "stdout",
          "text": [
            "Array:\n",
            "[[0.5        0.38342598 0.2       ]\n",
            " [0.25013001 0.5        0.5       ]\n",
            " [0.2        0.2        0.45129442]]\n",
            "Data type:\tfloat64\n",
            "Array shape:\t(3, 3)\n",
            "\n"
          ]
        }
      ]
    },
    {
      "cell_type": "code",
      "source": [
        "# Clipped to 0.2\n",
        "\n",
        "cliped_array = np.clip(array, 0.2, np.inf) # Any value less than 0.2 will be clipped to 0.2.but Any value greater than or equal to 0.2 will remain unchanged (because there is no upper bound(positive infinity)).\n",
        "array_info(cliped_array)"
      ],
      "metadata": {
        "colab": {
          "base_uri": "https://localhost:8080/"
        },
        "id": "2tWtpYhVqNnE",
        "outputId": "608267d3-5f57-47d9-ce6c-72295ee346f8"
      },
      "execution_count": 85,
      "outputs": [
        {
          "output_type": "stream",
          "name": "stdout",
          "text": [
            "Array:\n",
            "[[0.87461818 0.38342598 0.2       ]\n",
            " [0.25013001 0.81578776 0.82213144]\n",
            " [0.2        0.2        0.45129442]]\n",
            "Data type:\tfloat64\n",
            "Array shape:\t(3, 3)\n",
            "\n"
          ]
        }
      ]
    }
  ]
}