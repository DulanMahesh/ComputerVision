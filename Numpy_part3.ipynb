{
  "nbformat": 4,
  "nbformat_minor": 0,
  "metadata": {
    "colab": {
      "provenance": [],
      "authorship_tag": "ABX9TyOlQ4H8CnV2vOyQWLpQs0or",
      "include_colab_link": true
    },
    "kernelspec": {
      "name": "python3",
      "display_name": "Python 3"
    },
    "language_info": {
      "name": "python"
    }
  },
  "cells": [
    {
      "cell_type": "markdown",
      "metadata": {
        "id": "view-in-github",
        "colab_type": "text"
      },
      "source": [
        "<a href=\"https://colab.research.google.com/github/DulanMahesh/ComputerVision/blob/main/Numpy_part3.ipynb\" target=\"_parent\"><img src=\"https://colab.research.google.com/assets/colab-badge.svg\" alt=\"Open In Colab\"/></a>"
      ]
    },
    {
      "cell_type": "code",
      "execution_count": 2,
      "metadata": {
        "colab": {
          "base_uri": "https://localhost:8080/"
        },
        "id": "CePjtPXDw5Zw",
        "outputId": "f0295713-abda-4dd8-bc7f-8133e76f0b45"
      },
      "outputs": [
        {
          "output_type": "stream",
          "name": "stdout",
          "text": [
            "[[0.97164788 0.75607841 0.78299283 0.95827872]\n",
            " [0.56384023 0.09634332 0.81368942 0.51935418]\n",
            " [0.68660256 0.76992677 0.50244506 0.1992667 ]\n",
            " [0.11597554 0.83601591 0.6486797  0.71486795]]\n",
            "shape: (4, 4)\n",
            "dimension: 2\n"
          ]
        }
      ],
      "source": [
        "import numpy as np\n",
        "\n",
        "#element wise operations\n",
        "\n",
        "a =np.random.random((4,4)) #generates a 4x4 array with random floating-point numbers between 0 and 1.\n",
        "\n",
        "print(a)\n",
        "print(\"shape:\",a.shape)\n",
        "print(\"dimension:\",a.ndim)\n",
        "\n",
        "\n",
        "\n",
        "\n"
      ]
    },
    {
      "cell_type": "code",
      "source": [
        "b = np.random.random((4,4))\n",
        "print(b)\n",
        "print(\"shape:\",b.shape)\n",
        "print(\"dimension:\",b.ndim)"
      ],
      "metadata": {
        "colab": {
          "base_uri": "https://localhost:8080/"
        },
        "id": "7iaZU5KCBGIZ",
        "outputId": "20980f32-5aa8-48e0-8cd8-703d9d5d57a5"
      },
      "execution_count": 3,
      "outputs": [
        {
          "output_type": "stream",
          "name": "stdout",
          "text": [
            "[[0.85080041 0.17358035 0.04689916 0.1946547 ]\n",
            " [0.52656159 0.26604709 0.81637332 0.80457998]\n",
            " [0.10874549 0.55495934 0.01372211 0.54232191]\n",
            " [0.89174019 0.51435526 0.08969494 0.57920273]]\n",
            "shape: (4, 4)\n",
            "dimension: 2\n"
          ]
        }
      ]
    },
    {
      "cell_type": "code",
      "source": [
        "# element wise scalar operations\n",
        "\n",
        "#element wise scalar addition\n",
        "\n",
        "a+5\n"
      ],
      "metadata": {
        "colab": {
          "base_uri": "https://localhost:8080/"
        },
        "id": "R4tHpVr8CKAK",
        "outputId": "b9a8c868-29c8-4d35-d938-7be8cdae94d2"
      },
      "execution_count": 4,
      "outputs": [
        {
          "output_type": "execute_result",
          "data": {
            "text/plain": [
              "array([[5.97164788, 5.75607841, 5.78299283, 5.95827872],\n",
              "       [5.56384023, 5.09634332, 5.81368942, 5.51935418],\n",
              "       [5.68660256, 5.76992677, 5.50244506, 5.1992667 ],\n",
              "       [5.11597554, 5.83601591, 5.6486797 , 5.71486795]])"
            ]
          },
          "metadata": {},
          "execution_count": 4
        }
      ]
    },
    {
      "cell_type": "code",
      "source": [
        "#element wise scalar subtraction\n",
        "\n",
        "a-4"
      ],
      "metadata": {
        "colab": {
          "base_uri": "https://localhost:8080/"
        },
        "id": "KbcBh9bED4YY",
        "outputId": "3422446a-c391-4252-9377-806d452f6514"
      },
      "execution_count": 5,
      "outputs": [
        {
          "output_type": "execute_result",
          "data": {
            "text/plain": [
              "array([[-3.02835212, -3.24392159, -3.21700717, -3.04172128],\n",
              "       [-3.43615977, -3.90365668, -3.18631058, -3.48064582],\n",
              "       [-3.31339744, -3.23007323, -3.49755494, -3.8007333 ],\n",
              "       [-3.88402446, -3.16398409, -3.3513203 , -3.28513205]])"
            ]
          },
          "metadata": {},
          "execution_count": 5
        }
      ]
    },
    {
      "cell_type": "code",
      "source": [
        "#element wise scalar multipication\n",
        "\n",
        "a/10\n"
      ],
      "metadata": {
        "colab": {
          "base_uri": "https://localhost:8080/"
        },
        "id": "wsbx_AcJEM-R",
        "outputId": "8846a582-37b4-4593-c772-1da85fa0a558"
      },
      "execution_count": 6,
      "outputs": [
        {
          "output_type": "execute_result",
          "data": {
            "text/plain": [
              "array([[0.09716479, 0.07560784, 0.07829928, 0.09582787],\n",
              "       [0.05638402, 0.00963433, 0.08136894, 0.05193542],\n",
              "       [0.06866026, 0.07699268, 0.05024451, 0.01992667],\n",
              "       [0.01159755, 0.08360159, 0.06486797, 0.07148679]])"
            ]
          },
          "metadata": {},
          "execution_count": 6
        }
      ]
    },
    {
      "cell_type": "code",
      "source": [
        "\n",
        "# element wise array operations - for this to be happen both arrays should be in the same shape\n",
        "\n",
        "#array addition\n",
        "\n",
        "a+b\n",
        "\n"
      ],
      "metadata": {
        "colab": {
          "base_uri": "https://localhost:8080/"
        },
        "id": "7JWHzMwqGOTf",
        "outputId": "f4144019-1aa2-4efb-e275-de52aa9a9a8a"
      },
      "execution_count": 7,
      "outputs": [
        {
          "output_type": "execute_result",
          "data": {
            "text/plain": [
              "array([[1.82244829, 0.92965876, 0.82989199, 1.15293342],\n",
              "       [1.09040182, 0.3623904 , 1.63006274, 1.32393417],\n",
              "       [0.79534806, 1.3248861 , 0.51616717, 0.74158861],\n",
              "       [1.00771574, 1.35037117, 0.73837463, 1.29407068]])"
            ]
          },
          "metadata": {},
          "execution_count": 7
        }
      ]
    },
    {
      "cell_type": "code",
      "source": [
        "#array subtraction\n",
        "\n",
        "a-b"
      ],
      "metadata": {
        "colab": {
          "base_uri": "https://localhost:8080/"
        },
        "id": "bnnwnK3dHSHw",
        "outputId": "9e0c2e2c-e069-4d20-f2ab-49cd9f445be2"
      },
      "execution_count": 8,
      "outputs": [
        {
          "output_type": "execute_result",
          "data": {
            "text/plain": [
              "array([[ 0.12084746,  0.58249806,  0.73609367,  0.76362402],\n",
              "       [ 0.03727864, -0.16970377, -0.00268391, -0.2852258 ],\n",
              "       [ 0.57785707,  0.21496743,  0.48872295, -0.34305521],\n",
              "       [-0.77576465,  0.32166066,  0.55898476,  0.13566522]])"
            ]
          },
          "metadata": {},
          "execution_count": 8
        }
      ]
    },
    {
      "cell_type": "code",
      "source": [
        "#array multiplication\n",
        "\n",
        "a*b\n",
        "\n"
      ],
      "metadata": {
        "colab": {
          "base_uri": "https://localhost:8080/"
        },
        "id": "l2KENaRcHZw6",
        "outputId": "a563ae42-de25-482e-b35c-1e9e86becc4e"
      },
      "execution_count": 9,
      "outputs": [
        {
          "output_type": "execute_result",
          "data": {
            "text/plain": [
              "array([[0.82667841, 0.13124035, 0.03672171, 0.18653346],\n",
              "       [0.29689661, 0.02563186, 0.66427433, 0.41786198],\n",
              "       [0.07466493, 0.42727805, 0.00689461, 0.1080667 ],\n",
              "       [0.10342005, 0.43000918, 0.05818329, 0.41405347]])"
            ]
          },
          "metadata": {},
          "execution_count": 9
        }
      ]
    },
    {
      "cell_type": "code",
      "source": [
        "#array division\n",
        "a/b"
      ],
      "metadata": {
        "colab": {
          "base_uri": "https://localhost:8080/"
        },
        "id": "KV0nPntKH4Ih",
        "outputId": "96f97bfd-9e4d-4873-d764-5581e7e8e37c"
      },
      "execution_count": 10,
      "outputs": [
        {
          "output_type": "execute_result",
          "data": {
            "text/plain": [
              "array([[ 1.14203973,  4.35578347, 16.69524122,  4.92296725],\n",
              "       [ 1.07079636,  0.36212881,  0.9967124 ,  0.64549727],\n",
              "       [ 6.31384844,  1.38735708, 36.61571987,  0.36743251],\n",
              "       [ 0.1300553 ,  1.62536672,  7.23206572,  1.23422751]])"
            ]
          },
          "metadata": {},
          "execution_count": 10
        }
      ]
    },
    {
      "cell_type": "code",
      "source": [
        "#Broadcasting\n",
        "\n",
        "A= np.array([[1,2,3],[4,5,6,],[7,8,9,]])\n",
        "print (A)\n",
        "print(\"shape:\",A.shape)\n",
        "print(\"dimension:\",A.ndim)"
      ],
      "metadata": {
        "colab": {
          "base_uri": "https://localhost:8080/"
        },
        "id": "aHLl3-LqL8aJ",
        "outputId": "d71d1a17-84a0-4843-fed2-72d8d114fa05"
      },
      "execution_count": 11,
      "outputs": [
        {
          "output_type": "stream",
          "name": "stdout",
          "text": [
            "[[1 2 3]\n",
            " [4 5 6]\n",
            " [7 8 9]]\n",
            "shape: (3, 3)\n",
            "dimension: 2\n"
          ]
        }
      ]
    },
    {
      "cell_type": "code",
      "source": [
        "B=np.array([0,1,0])\n",
        "print(B)\n",
        "print(\"shape:\",B.shape)\n",
        "print(\"dimension:\",B.ndim)"
      ],
      "metadata": {
        "colab": {
          "base_uri": "https://localhost:8080/"
        },
        "id": "JxsUKaTWM_d_",
        "outputId": "85f91b55-259b-49e6-ddfd-b8f07a650315"
      },
      "execution_count": 12,
      "outputs": [
        {
          "output_type": "stream",
          "name": "stdout",
          "text": [
            "[0 1 0]\n",
            "shape: (3,)\n",
            "dimension: 1\n"
          ]
        }
      ]
    },
    {
      "cell_type": "code",
      "source": [
        "print(\"array A + array B:\")\n",
        "a+b  # here A and B are both same shape. so array b will be boradcast to A # 0 1 0\n",
        "                                                                           # 0 1 0\n",
        "                                                                           # 0 1 0"
      ],
      "metadata": {
        "colab": {
          "base_uri": "https://localhost:8080/"
        },
        "id": "aBpbtapnNXrh",
        "outputId": "7b47b544-f74a-43b7-fad2-da9d15d1967b"
      },
      "execution_count": 13,
      "outputs": [
        {
          "output_type": "stream",
          "name": "stdout",
          "text": [
            "array A + array B:\n"
          ]
        },
        {
          "output_type": "execute_result",
          "data": {
            "text/plain": [
              "array([[1.82244829, 0.92965876, 0.82989199, 1.15293342],\n",
              "       [1.09040182, 0.3623904 , 1.63006274, 1.32393417],\n",
              "       [0.79534806, 1.3248861 , 0.51616717, 0.74158861],\n",
              "       [1.00771574, 1.35037117, 0.73837463, 1.29407068]])"
            ]
          },
          "metadata": {},
          "execution_count": 13
        }
      ]
    },
    {
      "cell_type": "code",
      "source": [
        "\n",
        "#lINEAR ALGEBRA\n",
        "\n",
        "#Transpose\n",
        "\n",
        "a =np.array([[5,4,2],[7,8,9]]) #2*3 array\n",
        "print(a)\n",
        "print(\"shape:\",a.shape)\n",
        "print(\"dimension:\",a.ndim)"
      ],
      "metadata": {
        "colab": {
          "base_uri": "https://localhost:8080/"
        },
        "id": "Jwg8mvCYO7fk",
        "outputId": "7ef5444d-8f14-4f47-992e-a7ea3f93863b"
      },
      "execution_count": 14,
      "outputs": [
        {
          "output_type": "stream",
          "name": "stdout",
          "text": [
            "[[5 4 2]\n",
            " [7 8 9]]\n",
            "shape: (2, 3)\n",
            "dimension: 2\n"
          ]
        }
      ]
    },
    {
      "cell_type": "code",
      "source": [
        "#now transpose it(make the array into 3*2)\n",
        "\n",
        "a_transpose = a.transpose() #transpose it\n",
        "\n",
        "print(a_transpose)\n",
        "print(\"shape:\",a_transpose.shape)\n",
        "print(\"dimension:\",a_transpose.ndim)\n",
        "\n"
      ],
      "metadata": {
        "colab": {
          "base_uri": "https://localhost:8080/"
        },
        "id": "TXYjw5hggSxL",
        "outputId": "a93908af-88e0-4eba-f6c2-ebe61dd49ec8"
      },
      "execution_count": 15,
      "outputs": [
        {
          "output_type": "stream",
          "name": "stdout",
          "text": [
            "[[5 7]\n",
            " [4 8]\n",
            " [2 9]]\n",
            "shape: (3, 2)\n",
            "dimension: 2\n"
          ]
        }
      ]
    },
    {
      "cell_type": "code",
      "source": [],
      "metadata": {
        "id": "cI86S0j-j-Jk"
      },
      "execution_count": 15,
      "outputs": []
    },
    {
      "cell_type": "code",
      "source": [
        "#MATRIX MULTIPLICATION\n",
        "\n",
        "# matrix multiplication using 'np.matmul'\n",
        "\n",
        "a=np.random.random((3,4)) # To carry out the mtrix multiplication using np.matmul , no of columns in the first matrix should be equal to the unmber of rows in the seconf matrix(In this example, 4 columns in first matrix =4rows in second matrix)\n",
        "print (a)\n",
        "print(\"shape:\",a.shape)\n",
        "print(\"dimension:\",a.ndim)"
      ],
      "metadata": {
        "colab": {
          "base_uri": "https://localhost:8080/"
        },
        "id": "EO5i_-STg6vL",
        "outputId": "2f271a64-1c8c-46eb-cbe4-9ef0f9c702f4"
      },
      "execution_count": 16,
      "outputs": [
        {
          "output_type": "stream",
          "name": "stdout",
          "text": [
            "[[0.73799625 0.33208    0.14661166 0.01891861]\n",
            " [0.84495721 0.62828015 0.66727858 0.53917347]\n",
            " [0.97803183 0.66541096 0.03407669 0.54662336]]\n",
            "shape: (3, 4)\n",
            "dimension: 2\n"
          ]
        }
      ]
    },
    {
      "cell_type": "code",
      "source": [
        "b = np.random.random((4,2))\n",
        "print (b)\n",
        "print(\"shape:\",b.shape)\n",
        "print(\"dimension:\",b.ndim)"
      ],
      "metadata": {
        "colab": {
          "base_uri": "https://localhost:8080/"
        },
        "id": "d5TmtHxqj7Ws",
        "outputId": "01193b52-5bf3-4831-f814-82c86a8a5c33"
      },
      "execution_count": 17,
      "outputs": [
        {
          "output_type": "stream",
          "name": "stdout",
          "text": [
            "[[0.65697523 0.25911424]\n",
            " [0.36196386 0.96817322]\n",
            " [0.25303682 0.41618251]\n",
            " [0.27849087 0.57676832]]\n",
            "shape: (4, 2)\n",
            "dimension: 2\n"
          ]
        }
      ]
    },
    {
      "cell_type": "code",
      "source": [
        "# lets multiply the matrix using np.matmul\n",
        "\n",
        "c =np.matmul(a,b)\n",
        "print(c)\n",
        "print(\"shape:\",c.shape)\n",
        "print(\"dimension:\",c.ndim)"
      ],
      "metadata": {
        "colab": {
          "base_uri": "https://localhost:8080/"
        },
        "id": "3n555LU0j6cM",
        "outputId": "37e2e1e3-9b7e-47f0-dbe8-c723152c5064"
      },
      "execution_count": 18,
      "outputs": [
        {
          "output_type": "stream",
          "name": "stdout",
          "text": [
            "[[0.64741302 0.58466516]\n",
            " [1.1015316  1.41591231]\n",
            " [1.04424968 1.2271122 ]]\n",
            "shape: (3, 2)\n",
            "dimension: 2\n"
          ]
        }
      ]
    },
    {
      "cell_type": "code",
      "source": [],
      "metadata": {
        "id": "IpwTK10qTCyd"
      },
      "execution_count": 18,
      "outputs": []
    },
    {
      "cell_type": "code",
      "source": [
        "# using '@' operator\n",
        "\n",
        "a = np.random.random((3,4))\n",
        "print (a)\n",
        "print(\"shape:\",a.shape)\n",
        "print(\"dimension:\",a.ndim)\n"
      ],
      "metadata": {
        "colab": {
          "base_uri": "https://localhost:8080/"
        },
        "id": "nKZfmWrCSiz4",
        "outputId": "ab973ebb-cb88-431b-9663-5de9435d8836"
      },
      "execution_count": 19,
      "outputs": [
        {
          "output_type": "stream",
          "name": "stdout",
          "text": [
            "[[0.27314045 0.13570395 0.321505   0.97959643]\n",
            " [0.74183081 0.70572558 0.21274496 0.96449838]\n",
            " [0.79461584 0.5883145  0.58446765 0.06879401]]\n",
            "shape: (3, 4)\n",
            "dimension: 2\n"
          ]
        }
      ]
    },
    {
      "cell_type": "code",
      "source": [
        "b= np.random.random((4,2))\n",
        "print(b)\n",
        "print(\"shape:\",b.shape)\n",
        "print(\"dimension:\",b.ndim)"
      ],
      "metadata": {
        "colab": {
          "base_uri": "https://localhost:8080/"
        },
        "id": "7kiT9Ql4TFXN",
        "outputId": "2261062f-51e6-4996-c613-211a10ba6a7f"
      },
      "execution_count": 20,
      "outputs": [
        {
          "output_type": "stream",
          "name": "stdout",
          "text": [
            "[[0.54651481 0.82710839]\n",
            " [0.36892551 0.31760384]\n",
            " [0.97681371 0.36674821]\n",
            " [0.5238993  0.18302241]]\n",
            "shape: (4, 2)\n",
            "dimension: 2\n"
          ]
        }
      ]
    },
    {
      "cell_type": "code",
      "source": [
        "\n",
        "# matrix multiplication between  a and b matrixes\n",
        "\n",
        "c= a@b\n",
        "print(c)\n",
        "print(\"shape:\",c.shape)\n",
        "print(\"dimension:\",c.ndim)\n"
      ],
      "metadata": {
        "colab": {
          "base_uri": "https://localhost:8080/"
        },
        "id": "unNI5nFHTOLa",
        "outputId": "f9b03914-4e8a-4bed-b1ec-739299bc6bad"
      },
      "execution_count": 21,
      "outputs": [
        {
          "output_type": "stream",
          "name": "stdout",
          "text": [
            "[[1.02660032 0.56621633]\n",
            " [1.37889391 1.09226429]\n",
            " [1.2582707  1.07102769]]\n",
            "shape: (3, 2)\n",
            "dimension: 2\n"
          ]
        }
      ]
    },
    {
      "cell_type": "code",
      "source": [
        "#Matrix inverse\n",
        "\n",
        "\n",
        "a =np.random.random((3,3))\n",
        "print(a)\n",
        "print(\"shape:\",a.shape)\n",
        "print(\"dimension:\",a.ndim)"
      ],
      "metadata": {
        "colab": {
          "base_uri": "https://localhost:8080/"
        },
        "id": "5ifLoLGdUgen",
        "outputId": "60331eb5-e701-4c4f-cc81-3ab891b9038c"
      },
      "execution_count": 22,
      "outputs": [
        {
          "output_type": "stream",
          "name": "stdout",
          "text": [
            "[[0.36112786 0.92170932 0.23505642]\n",
            " [0.16536471 0.5909093  0.41605607]\n",
            " [0.46455073 0.12594916 0.57535948]]\n",
            "shape: (3, 3)\n",
            "dimension: 2\n"
          ]
        }
      ]
    },
    {
      "cell_type": "code",
      "source": [
        "# lets find out the inverse of the matrix\n",
        "\n",
        "a_inverse =np.linalg.inv(a)\n",
        "print(a_inverse)\n",
        "print(\"shape:\",a_inverse.shape)\n",
        "print(\"dimension:\",a_inverse.ndim)"
      ],
      "metadata": {
        "colab": {
          "base_uri": "https://localhost:8080/"
        },
        "id": "k2cJ_RGhgRPV",
        "outputId": "f549ac95-72b6-44e2-b905-7a83b27a1908"
      },
      "execution_count": 23,
      "outputs": [
        {
          "output_type": "stream",
          "name": "stdout",
          "text": [
            "[[ 2.13535241 -3.71784466  1.81608814]\n",
            " [ 0.72866802  0.73199236 -0.82700985]\n",
            " [-1.88361308  2.84158628  0.45275371]]\n",
            "shape: (3, 3)\n",
            "dimension: 2\n"
          ]
        }
      ]
    },
    {
      "cell_type": "code",
      "source": [
        "#Dot product between two vectors\n",
        "\n",
        "a =np.array([1,2,3])\n",
        "print(a)\n",
        "print(\"shape:\",a.shape)\n",
        "print(\"dimension:\",a.ndim)"
      ],
      "metadata": {
        "colab": {
          "base_uri": "https://localhost:8080/"
        },
        "id": "ceGUPIPZhsGp",
        "outputId": "f07a5182-38d8-410d-90f4-83fb03e49008"
      },
      "execution_count": 24,
      "outputs": [
        {
          "output_type": "stream",
          "name": "stdout",
          "text": [
            "[1 2 3]\n",
            "shape: (3,)\n",
            "dimension: 1\n"
          ]
        }
      ]
    },
    {
      "cell_type": "code",
      "source": [
        "b =np.array([4,5,6])\n",
        "print(b)\n",
        "print(\"shape:\",b.shape)\n",
        "print(\"dimension:\",b.ndim)"
      ],
      "metadata": {
        "colab": {
          "base_uri": "https://localhost:8080/"
        },
        "id": "tNetXNerh-gz",
        "outputId": "2f1b3c0a-d7bc-47ad-f1c0-76439868723d"
      },
      "execution_count": 25,
      "outputs": [
        {
          "output_type": "stream",
          "name": "stdout",
          "text": [
            "[4 5 6]\n",
            "shape: (3,)\n",
            "dimension: 1\n"
          ]
        }
      ]
    },
    {
      "cell_type": "code",
      "source": [
        "# now lets calculate dot product ((1*4)+(2*5)+(3*6))\n",
        "\n",
        "c =np.dot(a,b)\n",
        "print(c)\n",
        "print(\"shape:\",c.shape)\n",
        "print(\"dimension:\",c.ndim)"
      ],
      "metadata": {
        "colab": {
          "base_uri": "https://localhost:8080/"
        },
        "id": "yfFcDdBDiHHA",
        "outputId": "615b5e28-cce6-4404-b698-73cec6f9f9e7"
      },
      "execution_count": 26,
      "outputs": [
        {
          "output_type": "stream",
          "name": "stdout",
          "text": [
            "32\n",
            "shape: ()\n",
            "dimension: 0\n"
          ]
        }
      ]
    },
    {
      "cell_type": "code",
      "source": [
        "# Array statistics\n",
        "\n",
        "\n",
        "#sum\n",
        "\n",
        "a = np.array([1, 2, 3, 4, 5])\n",
        "\n",
        "print(a.sum())"
      ],
      "metadata": {
        "colab": {
          "base_uri": "https://localhost:8080/"
        },
        "id": "f3KiztFri3l-",
        "outputId": "6fe87cd3-6dab-4d46-9409-9caef35576ec"
      },
      "execution_count": 27,
      "outputs": [
        {
          "output_type": "stream",
          "name": "stdout",
          "text": [
            "15\n"
          ]
        }
      ]
    },
    {
      "cell_type": "code",
      "source": [
        "#sum along axis\n",
        "\n",
        "a =np.array([[1,2,3],[4,5,6]])\n",
        "print(a)\n",
        "print(\"shape:\",a.shape)\n",
        "print(\"dimension:\",a.ndim)"
      ],
      "metadata": {
        "colab": {
          "base_uri": "https://localhost:8080/"
        },
        "id": "dCRPKGmgjM8H",
        "outputId": "465b1a5b-c652-4a58-8750-2bf342d02485"
      },
      "execution_count": 28,
      "outputs": [
        {
          "output_type": "stream",
          "name": "stdout",
          "text": [
            "[[1 2 3]\n",
            " [4 5 6]]\n",
            "shape: (2, 3)\n",
            "dimension: 2\n"
          ]
        }
      ]
    },
    {
      "cell_type": "code",
      "source": [
        "print(\"sum alnog axis 0 :\", a.sum(axis=0)) # (1+4) (2+5) (3+6)\n",
        "\n",
        "\n",
        "print(\"sum alnog axis 1 :\", a.sum(axis=1)) #(1+2+3) (4+5+6)"
      ],
      "metadata": {
        "colab": {
          "base_uri": "https://localhost:8080/"
        },
        "id": "a6Jy39tWkKdv",
        "outputId": "c971caa5-4c41-41c9-a77c-e17b973ba04b"
      },
      "execution_count": 29,
      "outputs": [
        {
          "output_type": "stream",
          "name": "stdout",
          "text": [
            "sum alnog axis 0 : [5 7 9]\n",
            "sum alnog axis 1 : [ 6 15]\n"
          ]
        }
      ]
    },
    {
      "cell_type": "code",
      "source": [
        "#Min and max values\n",
        "\n",
        "a = np.array([-1.1, 2, 5, 100])\n",
        "\n",
        "print('Minimum = ', a.min())\n",
        "print('Maximum = ', a.max())"
      ],
      "metadata": {
        "colab": {
          "base_uri": "https://localhost:8080/"
        },
        "id": "KX1ZWdmNq9GH",
        "outputId": "af2fa92c-635f-4db7-c2d5-a629949945d1"
      },
      "execution_count": 30,
      "outputs": [
        {
          "output_type": "stream",
          "name": "stdout",
          "text": [
            "Minimum =  -1.1\n",
            "Maximum =  100.0\n"
          ]
        }
      ]
    },
    {
      "cell_type": "code",
      "source": [
        "#Min and max along the axis\n",
        "\n",
        "a =np.array([[1,-2,5],[2,3,-7]])\n",
        "\n",
        "print(\"Minimum value along axis 0:\" , a.min(axis=0))\n",
        "print(\"Minimum value along axis 1:\" , a.min(axis=1))\n",
        "\n",
        "\n",
        "print(\"Max value along axis 0:\" , a.max(axis=0))\n",
        "print(\"Max value along axis 1:\" , a.max(axis=1))"
      ],
      "metadata": {
        "colab": {
          "base_uri": "https://localhost:8080/"
        },
        "id": "2oWJOe5-rPyR",
        "outputId": "c461bd42-314a-48bc-ddc4-9dd78bd6c65f"
      },
      "execution_count": 31,
      "outputs": [
        {
          "output_type": "stream",
          "name": "stdout",
          "text": [
            "Minimum value along axis 0: [ 1 -2 -7]\n",
            "Minimum value along axis 1: [-2 -7]\n",
            "Max value along axis 0: [2 3 5]\n",
            "Max value along axis 1: [5 3]\n"
          ]
        }
      ]
    },
    {
      "cell_type": "code",
      "source": [
        "\n",
        "\n",
        "# Mean and standard deviation\n",
        "\n",
        "data =np.array([1.2,2,3,5.0,3.3,1.4,5.6])\n",
        "\n",
        "print('Mean = ', data.mean())\n",
        "print('Standard Deviation = ', data.std())\n",
        "\n",
        "print('Mean of the array               = {:8.6f}'.format(data.mean())) #8.6f specifies the format for floating-point numbers:8 indicates a minimum width of 8 characters (for alignment)..6f means 6 digits after the decimal point.\n",
        "print('Standard deviation of the array = {:8.6f}'.format(data.std()))"
      ],
      "metadata": {
        "colab": {
          "base_uri": "https://localhost:8080/"
        },
        "id": "iesC0abZsIMC",
        "outputId": "6a394083-f35a-4417-b530-36ba88834485"
      },
      "execution_count": 33,
      "outputs": [
        {
          "output_type": "stream",
          "name": "stdout",
          "text": [
            "Mean =  3.0714285714285716\n",
            "Standard Deviation =  1.5862933305704354\n",
            "Mean of the array               = 3.071429\n",
            "Standard deviation of the array = 1.586293\n"
          ]
        }
      ]
    },
    {
      "cell_type": "code",
      "source": [
        "# standardizing an array\n",
        "\n",
        "data =np.array([1.2,2,3,5.0,3.3,1.4,5.6])\n",
        "\n",
        "print('Array              = ', data)\n",
        "print('Mean               = {:8.6f}'.format(data.mean()))\n",
        "print('Standard deviation = {:8.6f}'.format(data.std()))\n",
        "print()\n"
      ],
      "metadata": {
        "colab": {
          "base_uri": "https://localhost:8080/"
        },
        "id": "CnlPnxy2lLIA",
        "outputId": "4add8c77-6687-4c6f-d20c-c8bf5fff9e40"
      },
      "execution_count": 34,
      "outputs": [
        {
          "output_type": "stream",
          "name": "stdout",
          "text": [
            "Array              =  [1.2 2.  3.  5.  3.3 1.4 5.6]\n",
            "Mean               = 3.071429\n",
            "Standard deviation = 1.586293\n",
            "\n"
          ]
        }
      ]
    },
    {
      "cell_type": "code",
      "source": [
        "standardizing_array =(data -data.mean())/data.std()\n",
        "\n",
        "print('Standardized array = ', standardizing_array)\n",
        "print('Mean               = {:8.6f}'.format(standardizing_array.mean()))\n",
        "print('Standard deviation = {:8.6f}'.format(standardizing_array.std()))"
      ],
      "metadata": {
        "colab": {
          "base_uri": "https://localhost:8080/"
        },
        "id": "Kpg5WvsXokuK",
        "outputId": "45257b73-7b6a-4639-9733-6a6a1126d362"
      },
      "execution_count": 35,
      "outputs": [
        {
          "output_type": "stream",
          "name": "stdout",
          "text": [
            "Standardized array =  [-1.17974938 -0.67542903 -0.0450286   1.21577226  0.14409153 -1.05366929\n",
            "  1.59401252]\n",
            "Mean               = -0.000000\n",
            "Standard deviation = 1.000000\n"
          ]
        }
      ]
    }
  ]
}