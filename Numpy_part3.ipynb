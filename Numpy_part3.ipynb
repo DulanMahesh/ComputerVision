{
  "nbformat": 4,
  "nbformat_minor": 0,
  "metadata": {
    "colab": {
      "provenance": [],
      "authorship_tag": "ABX9TyNdtroPrZ6SsdnEpMW89dSL",
      "include_colab_link": true
    },
    "kernelspec": {
      "name": "python3",
      "display_name": "Python 3"
    },
    "language_info": {
      "name": "python"
    }
  },
  "cells": [
    {
      "cell_type": "markdown",
      "metadata": {
        "id": "view-in-github",
        "colab_type": "text"
      },
      "source": [
        "<a href=\"https://colab.research.google.com/github/DulanMahesh/ComputerVision/blob/main/Numpy_part3.ipynb\" target=\"_parent\"><img src=\"https://colab.research.google.com/assets/colab-badge.svg\" alt=\"Open In Colab\"/></a>"
      ]
    },
    {
      "cell_type": "code",
      "execution_count": 1,
      "metadata": {
        "colab": {
          "base_uri": "https://localhost:8080/"
        },
        "id": "CePjtPXDw5Zw",
        "outputId": "85abbdea-85d2-4f5e-9f27-4ed8ede018b6"
      },
      "outputs": [
        {
          "output_type": "stream",
          "name": "stdout",
          "text": [
            "[[0.26028168 0.81569166 0.3309147  0.15656424]\n",
            " [0.0394611  0.35059348 0.24764973 0.95711965]\n",
            " [0.96162726 0.24452728 0.5766827  0.38051605]\n",
            " [0.98716596 0.79530606 0.99722809 0.21132455]]\n",
            "shape: (4, 4)\n",
            "dimension: 2\n"
          ]
        }
      ],
      "source": [
        "import numpy as np\n",
        "\n",
        "#element wise operations\n",
        "\n",
        "a =np.random.random((4,4)) #generates a 4x4 array with random floating-point numbers between 0 and 1.\n",
        "\n",
        "print(a)\n",
        "print(\"shape:\",a.shape)\n",
        "print(\"dimension:\",a.ndim)\n",
        "\n",
        "\n",
        "\n",
        "\n"
      ]
    },
    {
      "cell_type": "code",
      "source": [
        "b = np.random.random((4,4))\n",
        "print(b)\n",
        "print(\"shape:\",b.shape)\n",
        "print(\"dimension:\",b.ndim)"
      ],
      "metadata": {
        "colab": {
          "base_uri": "https://localhost:8080/"
        },
        "id": "7iaZU5KCBGIZ",
        "outputId": "f892bacd-3879-4b65-ffba-fcf751e7da8a"
      },
      "execution_count": 2,
      "outputs": [
        {
          "output_type": "stream",
          "name": "stdout",
          "text": [
            "[[0.66491502 0.98709803 0.58139245 0.4062257 ]\n",
            " [0.70232912 0.25506993 0.46511195 0.64843676]\n",
            " [0.28454289 0.7337466  0.99688559 0.0184524 ]\n",
            " [0.99472787 0.16929877 0.63293546 0.41238823]]\n",
            "shape: (4, 4)\n",
            "dimension: 2\n"
          ]
        }
      ]
    },
    {
      "cell_type": "code",
      "source": [
        "# element wise scalar operations\n",
        "\n",
        "#element wise scalar addition\n",
        "\n",
        "a+5\n"
      ],
      "metadata": {
        "colab": {
          "base_uri": "https://localhost:8080/"
        },
        "id": "R4tHpVr8CKAK",
        "outputId": "55721302-40f5-47a2-fcb0-cea93a0059c5"
      },
      "execution_count": 3,
      "outputs": [
        {
          "output_type": "execute_result",
          "data": {
            "text/plain": [
              "array([[5.26028168, 5.81569166, 5.3309147 , 5.15656424],\n",
              "       [5.0394611 , 5.35059348, 5.24764973, 5.95711965],\n",
              "       [5.96162726, 5.24452728, 5.5766827 , 5.38051605],\n",
              "       [5.98716596, 5.79530606, 5.99722809, 5.21132455]])"
            ]
          },
          "metadata": {},
          "execution_count": 3
        }
      ]
    },
    {
      "cell_type": "code",
      "source": [
        "#element wise scalar subtraction\n",
        "\n",
        "a-4"
      ],
      "metadata": {
        "colab": {
          "base_uri": "https://localhost:8080/"
        },
        "id": "KbcBh9bED4YY",
        "outputId": "03118030-3f0e-4e06-bb43-5c7e5f0a62c7"
      },
      "execution_count": 4,
      "outputs": [
        {
          "output_type": "execute_result",
          "data": {
            "text/plain": [
              "array([[-3.73971832, -3.18430834, -3.6690853 , -3.84343576],\n",
              "       [-3.9605389 , -3.64940652, -3.75235027, -3.04288035],\n",
              "       [-3.03837274, -3.75547272, -3.4233173 , -3.61948395],\n",
              "       [-3.01283404, -3.20469394, -3.00277191, -3.78867545]])"
            ]
          },
          "metadata": {},
          "execution_count": 4
        }
      ]
    },
    {
      "cell_type": "code",
      "source": [
        "#element wise scalar multipication\n",
        "\n",
        "a/10\n"
      ],
      "metadata": {
        "colab": {
          "base_uri": "https://localhost:8080/"
        },
        "id": "wsbx_AcJEM-R",
        "outputId": "db497c5e-d6bb-4597-b7da-ac0c106c4e96"
      },
      "execution_count": 5,
      "outputs": [
        {
          "output_type": "execute_result",
          "data": {
            "text/plain": [
              "array([[0.02602817, 0.08156917, 0.03309147, 0.01565642],\n",
              "       [0.00394611, 0.03505935, 0.02476497, 0.09571196],\n",
              "       [0.09616273, 0.02445273, 0.05766827, 0.03805161],\n",
              "       [0.0987166 , 0.07953061, 0.09972281, 0.02113245]])"
            ]
          },
          "metadata": {},
          "execution_count": 5
        }
      ]
    },
    {
      "cell_type": "code",
      "source": [
        "\n",
        "# element wise array operations - for this to be happen both arrays should be in the same shape\n",
        "\n",
        "#array addition\n",
        "\n",
        "a+b\n",
        "\n"
      ],
      "metadata": {
        "colab": {
          "base_uri": "https://localhost:8080/"
        },
        "id": "7JWHzMwqGOTf",
        "outputId": "9260fb9a-adc3-4b55-a7b3-ebc7d7be9c44"
      },
      "execution_count": 6,
      "outputs": [
        {
          "output_type": "execute_result",
          "data": {
            "text/plain": [
              "array([[0.9251967 , 1.80278969, 0.91230716, 0.56278995],\n",
              "       [0.74179022, 0.60566341, 0.71276168, 1.60555641],\n",
              "       [1.24617015, 0.97827388, 1.57356829, 0.39896845],\n",
              "       [1.98189383, 0.96460483, 1.63016355, 0.62371278]])"
            ]
          },
          "metadata": {},
          "execution_count": 6
        }
      ]
    },
    {
      "cell_type": "code",
      "source": [
        "#array subtraction\n",
        "\n",
        "a-b"
      ],
      "metadata": {
        "colab": {
          "base_uri": "https://localhost:8080/"
        },
        "id": "bnnwnK3dHSHw",
        "outputId": "43027238-c048-4ee9-82d2-6b99d44239fc"
      },
      "execution_count": 7,
      "outputs": [
        {
          "output_type": "execute_result",
          "data": {
            "text/plain": [
              "array([[-0.40463335, -0.17140637, -0.25047775, -0.24966146],\n",
              "       [-0.66286802,  0.09552355, -0.21746221,  0.30868289],\n",
              "       [ 0.67708437, -0.48921932, -0.42020289,  0.36206366],\n",
              "       [-0.00756192,  0.62600729,  0.36429263, -0.20106368]])"
            ]
          },
          "metadata": {},
          "execution_count": 7
        }
      ]
    },
    {
      "cell_type": "code",
      "source": [
        "#array multiplication\n",
        "\n",
        "a*b\n",
        "\n"
      ],
      "metadata": {
        "colab": {
          "base_uri": "https://localhost:8080/"
        },
        "id": "l2KENaRcHZw6",
        "outputId": "d10caddf-d24c-4992-e2a9-a8f82be8787e"
      },
      "execution_count": 8,
      "outputs": [
        {
          "output_type": "execute_result",
          "data": {
            "text/plain": [
              "array([[0.1730652 , 0.80516763, 0.19239131, 0.06360042],\n",
              "       [0.02771468, 0.08942586, 0.11518485, 0.62063156],\n",
              "       [0.2736242 , 0.17942106, 0.57488667, 0.00702143],\n",
              "       [0.98196149, 0.13464433, 0.63118102, 0.08714776]])"
            ]
          },
          "metadata": {},
          "execution_count": 8
        }
      ]
    },
    {
      "cell_type": "code",
      "source": [
        "#array division\n",
        "a/b"
      ],
      "metadata": {
        "colab": {
          "base_uri": "https://localhost:8080/"
        },
        "id": "KV0nPntKH4Ih",
        "outputId": "7da959ec-037e-4733-a83e-cb14229f291d"
      },
      "execution_count": 9,
      "outputs": [
        {
          "output_type": "execute_result",
          "data": {
            "text/plain": [
              "array([[ 0.39145104,  0.82635325,  0.56917612,  0.38541196],\n",
              "       [ 0.05618605,  1.37449946,  0.53245189,  1.47604163],\n",
              "       [ 3.37955116,  0.33325848,  0.57848434, 20.6214965 ],\n",
              "       [ 0.99239801,  4.69764827,  1.57556047,  0.51244078]])"
            ]
          },
          "metadata": {},
          "execution_count": 9
        }
      ]
    },
    {
      "cell_type": "code",
      "source": [
        "#Broadcasting\n",
        "\n",
        "A= np.array([[1,2,3],[4,5,6,],[7,8,9,]])\n",
        "print (A)\n",
        "print(\"shape:\",A.shape)\n",
        "print(\"dimension:\",A.ndim)"
      ],
      "metadata": {
        "colab": {
          "base_uri": "https://localhost:8080/"
        },
        "id": "aHLl3-LqL8aJ",
        "outputId": "7f9693d8-2bbb-4efd-bd3b-dd39c44be2ae"
      },
      "execution_count": 10,
      "outputs": [
        {
          "output_type": "stream",
          "name": "stdout",
          "text": [
            "[[1 2 3]\n",
            " [4 5 6]\n",
            " [7 8 9]]\n",
            "shape: (3, 3)\n",
            "dimension: 2\n"
          ]
        }
      ]
    },
    {
      "cell_type": "code",
      "source": [
        "B=np.array([0,1,0])\n",
        "print(B)\n",
        "print(\"shape:\",B.shape)\n",
        "print(\"dimension:\",B.ndim)"
      ],
      "metadata": {
        "colab": {
          "base_uri": "https://localhost:8080/"
        },
        "id": "JxsUKaTWM_d_",
        "outputId": "d8c6198a-3a47-4470-b589-57a8c821e3ee"
      },
      "execution_count": 11,
      "outputs": [
        {
          "output_type": "stream",
          "name": "stdout",
          "text": [
            "[0 1 0]\n",
            "shape: (3,)\n",
            "dimension: 1\n"
          ]
        }
      ]
    },
    {
      "cell_type": "code",
      "source": [
        "print(\"array A + array B:\")\n",
        "a+b  # here A and B are both same shape. so array b will be boradcast to A # 0 1 0\n",
        "                                                                           # 0 1 0\n",
        "                                                                           # 0 1 0"
      ],
      "metadata": {
        "colab": {
          "base_uri": "https://localhost:8080/"
        },
        "id": "aBpbtapnNXrh",
        "outputId": "0759ecb1-a174-4f0b-abf3-5c430911efe4"
      },
      "execution_count": 12,
      "outputs": [
        {
          "output_type": "stream",
          "name": "stdout",
          "text": [
            "array A + array B:\n"
          ]
        },
        {
          "output_type": "execute_result",
          "data": {
            "text/plain": [
              "array([[0.9251967 , 1.80278969, 0.91230716, 0.56278995],\n",
              "       [0.74179022, 0.60566341, 0.71276168, 1.60555641],\n",
              "       [1.24617015, 0.97827388, 1.57356829, 0.39896845],\n",
              "       [1.98189383, 0.96460483, 1.63016355, 0.62371278]])"
            ]
          },
          "metadata": {},
          "execution_count": 12
        }
      ]
    },
    {
      "cell_type": "code",
      "source": [
        "\n",
        "#lINEAR ALGEBRA\n",
        "\n",
        "#Transpose\n",
        "\n",
        "a =np.array([[5,4,2],[7,8,9]]) #2*3 array\n",
        "print(a)\n",
        "print(\"shape:\",a.shape)\n",
        "print(\"dimension:\",a.ndim)"
      ],
      "metadata": {
        "colab": {
          "base_uri": "https://localhost:8080/"
        },
        "id": "Jwg8mvCYO7fk",
        "outputId": "a024d178-6cb4-40a8-b4d0-f558a79378d6"
      },
      "execution_count": 13,
      "outputs": [
        {
          "output_type": "stream",
          "name": "stdout",
          "text": [
            "[[5 4 2]\n",
            " [7 8 9]]\n",
            "shape: (2, 3)\n",
            "dimension: 2\n"
          ]
        }
      ]
    },
    {
      "cell_type": "code",
      "source": [
        "#now transpose it(make the array into 3*2)\n",
        "\n",
        "a_transpose = a.transpose() #transpose it\n",
        "\n",
        "print(a_transpose)\n",
        "print(\"shape:\",a_transpose.shape)\n",
        "print(\"dimension:\",a_transpose.ndim)\n",
        "\n"
      ],
      "metadata": {
        "colab": {
          "base_uri": "https://localhost:8080/"
        },
        "id": "TXYjw5hggSxL",
        "outputId": "00c6ca5c-2806-459f-fa73-999faa6fe732"
      },
      "execution_count": 14,
      "outputs": [
        {
          "output_type": "stream",
          "name": "stdout",
          "text": [
            "[[5 7]\n",
            " [4 8]\n",
            " [2 9]]\n",
            "shape: (3, 2)\n",
            "dimension: 2\n"
          ]
        }
      ]
    },
    {
      "cell_type": "code",
      "source": [],
      "metadata": {
        "id": "cI86S0j-j-Jk"
      },
      "execution_count": 14,
      "outputs": []
    },
    {
      "cell_type": "code",
      "source": [
        "#MATRIX MULTIPLICATION\n",
        "\n",
        "# matrix multiplication using 'np.matmul'\n",
        "\n",
        "a=np.random.random((3,4)) # To carry out the mtrix multiplication using np.matmul , no of columns in the first matrix should be equal to the unmber of rows in the seconf matrix(In this example, 4 columns in first matrix =4rows in second matrix)\n",
        "print (a)\n",
        "print(\"shape:\",a.shape)\n",
        "print(\"dimension:\",a.ndim)"
      ],
      "metadata": {
        "colab": {
          "base_uri": "https://localhost:8080/"
        },
        "id": "EO5i_-STg6vL",
        "outputId": "52498099-1af7-4004-ea69-931d3523a1e6"
      },
      "execution_count": 15,
      "outputs": [
        {
          "output_type": "stream",
          "name": "stdout",
          "text": [
            "[[0.79790416 0.33904778 0.82662537 0.86344155]\n",
            " [0.25704097 0.053209   0.92981352 0.20586105]\n",
            " [0.06385733 0.21933019 0.13954248 0.13088214]]\n",
            "shape: (3, 4)\n",
            "dimension: 2\n"
          ]
        }
      ]
    },
    {
      "cell_type": "code",
      "source": [
        "b = np.random.random((4,2))\n",
        "print (b)\n",
        "print(\"shape:\",b.shape)\n",
        "print(\"dimension:\",b.ndim)"
      ],
      "metadata": {
        "colab": {
          "base_uri": "https://localhost:8080/"
        },
        "id": "d5TmtHxqj7Ws",
        "outputId": "e1511205-1a65-41b8-daa3-5a47adae28c4"
      },
      "execution_count": 16,
      "outputs": [
        {
          "output_type": "stream",
          "name": "stdout",
          "text": [
            "[[0.36168917 0.27831748]\n",
            " [0.54980418 0.64729997]\n",
            " [0.58195336 0.01402578]\n",
            " [0.59735742 0.20658462]]\n",
            "shape: (4, 2)\n",
            "dimension: 2\n"
          ]
        }
      ]
    },
    {
      "cell_type": "code",
      "source": [
        "# lets multiply the matrix using np.matmul\n",
        "\n",
        "c =np.matmul(a,b)\n",
        "print(c)\n",
        "print(\"shape:\",c.shape)\n",
        "print(\"dimension:\",c.ndim)"
      ],
      "metadata": {
        "colab": {
          "base_uri": "https://localhost:8080/"
        },
        "id": "3n555LU0j6cM",
        "outputId": "8cfd665f-8cc7-477d-a6d2-f25e48fe097a"
      },
      "execution_count": 17,
      "outputs": [
        {
          "output_type": "stream",
          "name": "stdout",
          "text": [
            "[[1.4718438  0.6315041 ]\n",
            " [0.78630418 0.16155026]\n",
            " [0.30307579 0.18874047]]\n",
            "shape: (3, 2)\n",
            "dimension: 2\n"
          ]
        }
      ]
    },
    {
      "cell_type": "code",
      "source": [],
      "metadata": {
        "id": "IpwTK10qTCyd"
      },
      "execution_count": null,
      "outputs": []
    },
    {
      "cell_type": "code",
      "source": [
        "# using '@' operator\n",
        "\n",
        "a = np.random.random((3,4))\n",
        "print (a)\n",
        "print(\"shape:\",a.shape)\n",
        "print(\"dimension:\",a.ndim)\n"
      ],
      "metadata": {
        "colab": {
          "base_uri": "https://localhost:8080/"
        },
        "id": "nKZfmWrCSiz4",
        "outputId": "99b83cb2-ed99-44c5-e408-9d528109a296"
      },
      "execution_count": null,
      "outputs": [
        {
          "output_type": "stream",
          "name": "stdout",
          "text": [
            "[[0.21313569 0.76322905 0.34543841 0.34905243]\n",
            " [0.47281156 0.80765493 0.64007313 0.98040472]\n",
            " [0.54514999 0.87181284 0.85974847 0.32452716]]\n",
            "shape: (3, 4)\n",
            "dimension: 2\n"
          ]
        }
      ]
    },
    {
      "cell_type": "code",
      "source": [
        "b= np.random.random((4,2))\n",
        "print(b)\n",
        "print(\"shape:\",b.shape)\n",
        "print(\"dimension:\",b.ndim)"
      ],
      "metadata": {
        "colab": {
          "base_uri": "https://localhost:8080/"
        },
        "id": "7kiT9Ql4TFXN",
        "outputId": "aeb77e2e-b079-4617-c7ce-6d726be8c780"
      },
      "execution_count": 19,
      "outputs": [
        {
          "output_type": "stream",
          "name": "stdout",
          "text": [
            "[[0.44043764 0.10377503]\n",
            " [0.81679959 0.56283783]\n",
            " [0.79204173 0.41243351]\n",
            " [0.86083033 0.57737368]]\n",
            "shape: (4, 2)\n",
            "dimension: 2\n"
          ]
        }
      ]
    },
    {
      "cell_type": "code",
      "source": [
        "\n",
        "# matrix multiplication between  a and b matrixes\n",
        "\n",
        "c= a@b\n",
        "print(c)\n",
        "print(\"shape:\",c.shape)\n",
        "print(\"dimension:\",c.ndim)\n"
      ],
      "metadata": {
        "colab": {
          "base_uri": "https://localhost:8080/"
        },
        "id": "unNI5nFHTOLa",
        "outputId": "587774ad-228e-4677-fccc-0c3baeedc238"
      },
      "execution_count": 20,
      "outputs": [
        {
          "output_type": "stream",
          "name": "stdout",
          "text": [
            "[[1.29135472 0.79569641]\n",
            " [2.21886297 1.33369228]\n",
            " [1.91252043 1.08922473]]\n",
            "shape: (3, 2)\n",
            "dimension: 2\n"
          ]
        }
      ]
    },
    {
      "cell_type": "code",
      "source": [
        "#Matrix inverse\n",
        "\n",
        "\n",
        "a =np.random.random((3,3))\n",
        "print(a)\n",
        "print(\"shape:\",a.shape)\n",
        "print(\"dimension:\",a.ndim)"
      ],
      "metadata": {
        "colab": {
          "base_uri": "https://localhost:8080/"
        },
        "id": "5ifLoLGdUgen",
        "outputId": "85a759ee-08bb-43d6-d6aa-5c281a98d561"
      },
      "execution_count": 21,
      "outputs": [
        {
          "output_type": "stream",
          "name": "stdout",
          "text": [
            "[[0.30218537 0.36671657 0.00444047]\n",
            " [0.92451383 0.09445403 0.16366919]\n",
            " [0.63480184 0.5766326  0.28062489]]\n",
            "shape: (3, 3)\n",
            "dimension: 2\n"
          ]
        }
      ]
    },
    {
      "cell_type": "code",
      "source": [
        "# lets find out the inverse of the matrix\n",
        "\n",
        "a_inverse =np.linalg.inv(a)\n",
        "print(a_inverse)\n",
        "print(\"shape:\",a_inverse.shape)\n",
        "print(\"dimension:\",a_inverse.ndim)"
      ],
      "metadata": {
        "colab": {
          "base_uri": "https://localhost:8080/"
        },
        "id": "k2cJ_RGhgRPV",
        "outputId": "459b37f4-ed24-4975-f7ec-cd135f3f8ea4"
      },
      "execution_count": 22,
      "outputs": [
        {
          "output_type": "stream",
          "name": "stdout",
          "text": [
            "[[ 0.89955703  1.33002473 -0.78994609]\n",
            " [ 2.06157417 -1.0865846   0.60110873]\n",
            " [-6.2710451  -0.7759185   4.11524562]]\n",
            "shape: (3, 3)\n",
            "dimension: 2\n"
          ]
        }
      ]
    },
    {
      "cell_type": "code",
      "source": [
        "#Dot product between two vectors\n",
        "\n",
        "a =np.array([1,2,3])\n",
        "print(a)\n",
        "print(\"shape:\",a.shape)\n",
        "print(\"dimension:\",a.ndim)"
      ],
      "metadata": {
        "colab": {
          "base_uri": "https://localhost:8080/"
        },
        "id": "ceGUPIPZhsGp",
        "outputId": "edb6806b-3a24-43b1-e885-9ddc5c535cd9"
      },
      "execution_count": 23,
      "outputs": [
        {
          "output_type": "stream",
          "name": "stdout",
          "text": [
            "[1 2 3]\n",
            "shape: (3,)\n",
            "dimension: 1\n"
          ]
        }
      ]
    },
    {
      "cell_type": "code",
      "source": [
        "b =np.array([4,5,6])\n",
        "print(b)\n",
        "print(\"shape:\",b.shape)\n",
        "print(\"dimension:\",b.ndim)"
      ],
      "metadata": {
        "colab": {
          "base_uri": "https://localhost:8080/"
        },
        "id": "tNetXNerh-gz",
        "outputId": "5e9008b5-41d8-42db-a862-00b572975450"
      },
      "execution_count": 24,
      "outputs": [
        {
          "output_type": "stream",
          "name": "stdout",
          "text": [
            "[4 5 6]\n",
            "shape: (3,)\n",
            "dimension: 1\n"
          ]
        }
      ]
    },
    {
      "cell_type": "code",
      "source": [
        "# now lets calculate dot product ((1*4)+(2*5)+(3*6))\n",
        "\n",
        "c =np.dot(a,b)\n",
        "print(c)\n",
        "print(\"shape:\",c.shape)\n",
        "print(\"dimension:\",c.ndim)"
      ],
      "metadata": {
        "colab": {
          "base_uri": "https://localhost:8080/"
        },
        "id": "yfFcDdBDiHHA",
        "outputId": "65c3099a-a3e0-4f4f-fa80-b74b0611b384"
      },
      "execution_count": 25,
      "outputs": [
        {
          "output_type": "stream",
          "name": "stdout",
          "text": [
            "32\n",
            "shape: ()\n",
            "dimension: 0\n"
          ]
        }
      ]
    },
    {
      "cell_type": "code",
      "source": [
        "# Array statistics\n",
        "\n",
        "\n",
        "#sum\n",
        "\n",
        "a = np.array([1, 2, 3, 4, 5])\n",
        "\n",
        "print(a.sum())"
      ],
      "metadata": {
        "colab": {
          "base_uri": "https://localhost:8080/"
        },
        "id": "f3KiztFri3l-",
        "outputId": "37783867-e211-4e69-eca1-1de7bbe3e41c"
      },
      "execution_count": 26,
      "outputs": [
        {
          "output_type": "stream",
          "name": "stdout",
          "text": [
            "15\n"
          ]
        }
      ]
    },
    {
      "cell_type": "code",
      "source": [
        "#sum along axis\n",
        "\n",
        "a =np.array([[1,2,3],[4,5,6]])\n",
        "print(a)\n",
        "print(\"shape:\",a.shape)\n",
        "print(\"dimension:\",a.ndim)"
      ],
      "metadata": {
        "colab": {
          "base_uri": "https://localhost:8080/"
        },
        "id": "dCRPKGmgjM8H",
        "outputId": "dca635e6-0969-4ab4-ebee-170eb46cb94e"
      },
      "execution_count": 27,
      "outputs": [
        {
          "output_type": "stream",
          "name": "stdout",
          "text": [
            "[[1 2 3]\n",
            " [4 5 6]]\n",
            "shape: (2, 3)\n",
            "dimension: 2\n"
          ]
        }
      ]
    },
    {
      "cell_type": "code",
      "source": [
        "print(\"sum alnog axis 0 :\", a.sum(axis=0)) # (1+4) (2+5) (3+6)\n",
        "\n",
        "\n",
        "print(\"sum alnog axis 1 :\", a.sum(axis=1)) #(1+2+3) (4+5+6)"
      ],
      "metadata": {
        "colab": {
          "base_uri": "https://localhost:8080/"
        },
        "id": "a6Jy39tWkKdv",
        "outputId": "4ec1b44d-7896-46bf-e78d-1e4cbfc81fe6"
      },
      "execution_count": 28,
      "outputs": [
        {
          "output_type": "stream",
          "name": "stdout",
          "text": [
            "sum alnog axis 0 : [5 7 9]\n",
            "sum alnog axis 1 : [ 6 15]\n"
          ]
        }
      ]
    }
  ]
}