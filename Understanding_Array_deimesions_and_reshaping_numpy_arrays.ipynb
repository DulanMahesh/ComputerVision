{
  "nbformat": 4,
  "nbformat_minor": 0,
  "metadata": {
    "colab": {
      "provenance": [],
      "authorship_tag": "ABX9TyNkv2pNVe/PJOf9vtSLEq+2",
      "include_colab_link": true
    },
    "kernelspec": {
      "name": "python3",
      "display_name": "Python 3"
    },
    "language_info": {
      "name": "python"
    }
  },
  "cells": [
    {
      "cell_type": "markdown",
      "metadata": {
        "id": "view-in-github",
        "colab_type": "text"
      },
      "source": [
        "<a href=\"https://colab.research.google.com/github/DulanMahesh/ComputerVision/blob/main/Understanding_Array_deimesions_and_reshaping_numpy_arrays.ipynb\" target=\"_parent\"><img src=\"https://colab.research.google.com/assets/colab-badge.svg\" alt=\"Open In Colab\"/></a>"
      ]
    },
    {
      "cell_type": "code",
      "execution_count": 3,
      "metadata": {
        "id": "lxZHQn17BRkr"
      },
      "outputs": [],
      "source": [
        "import numpy as np\n",
        "\n"
      ]
    },
    {
      "cell_type": "code",
      "source": [
        "#Converting 1D Arrays to 2D Arrays\n",
        "\n",
        "print('creating 1D array')\n",
        "a= np.arange(1,13,dtype=int)\n",
        "\n",
        "print(a)\n",
        "print(\"a[0]   = \", a[0])\n"
      ],
      "metadata": {
        "colab": {
          "base_uri": "https://localhost:8080/"
        },
        "id": "MfC20fTgHib_",
        "outputId": "4ceb209f-ea72-4073-9a7c-e078b8a2f7c7"
      },
      "execution_count": 4,
      "outputs": [
        {
          "output_type": "stream",
          "name": "stdout",
          "text": [
            "creating 1D array\n",
            "[ 1  2  3  4  5  6  7  8  9 10 11 12]\n",
            "a[0]   =  1\n"
          ]
        }
      ]
    },
    {
      "cell_type": "code",
      "source": [
        "# reshape the 1D array into 2D array(1rows,12columns)\n",
        "\n",
        "a=a.reshape(1,12)\n",
        "print(a)\n",
        "print(\"a[0]=\",a[0])\n",
        "print(\"a[0,6]=\",a[0,6])"
      ],
      "metadata": {
        "colab": {
          "base_uri": "https://localhost:8080/"
        },
        "id": "NuE-MrCMPrQF",
        "outputId": "ae81c97a-1241-4d41-cb91-821df54929f5"
      },
      "execution_count": 5,
      "outputs": [
        {
          "output_type": "stream",
          "name": "stdout",
          "text": [
            "[[ 1  2  3  4  5  6  7  8  9 10 11 12]]\n",
            "a[0]= [ 1  2  3  4  5  6  7  8  9 10 11 12]\n",
            "a[0,6]= 7\n"
          ]
        }
      ]
    },
    {
      "cell_type": "code",
      "source": [
        "# reshape again into 2D array (12 rows,1 columns)\n",
        "\n",
        "a =a.reshape(12,1) #12rows ,1 column\n",
        "print(\"Array:\", a)\n",
        "print(\"Shape:\", a.shape)\n",
        "print(\"Size:\", a.size)\n",
        "print(\"Data Type:\", a.dtype)\n",
        "print(\"Number of Dimensions:\", a.ndim)\n",
        "print(\"Memory in Bytes:\", a.nbytes)\n",
        "\n"
      ],
      "metadata": {
        "colab": {
          "base_uri": "https://localhost:8080/"
        },
        "id": "a8M6d9ifUfSi",
        "outputId": "7a521542-25c2-4918-a785-1ab0938e6387"
      },
      "execution_count": 6,
      "outputs": [
        {
          "output_type": "stream",
          "name": "stdout",
          "text": [
            "Array: [[ 1]\n",
            " [ 2]\n",
            " [ 3]\n",
            " [ 4]\n",
            " [ 5]\n",
            " [ 6]\n",
            " [ 7]\n",
            " [ 8]\n",
            " [ 9]\n",
            " [10]\n",
            " [11]\n",
            " [12]]\n",
            "Shape: (12, 1)\n",
            "Size: 12\n",
            "Data Type: int64\n",
            "Number of Dimensions: 2\n",
            "Memory in Bytes: 96\n"
          ]
        }
      ]
    },
    {
      "cell_type": "code",
      "source": [
        "# Rehape the 1D array to a (3x4) 2D array.\n",
        "\n",
        "a =a.reshape(3,4)\n",
        "print(\"Array:\" , a)\n",
        "print(\"Shape:\", a.shape)\n",
        "print(\"Size:\", a.size)\n",
        "print(\"Data Type:\", a.dtype)\n",
        "print(\"Number of Dimensions:\", a.ndim)\n",
        "print(\"Memory in Bytes:\", a.nbytes)\n"
      ],
      "metadata": {
        "colab": {
          "base_uri": "https://localhost:8080/"
        },
        "id": "Wk24_78sVJyL",
        "outputId": "64085da7-f211-4605-c5e0-7026530a0d34"
      },
      "execution_count": 7,
      "outputs": [
        {
          "output_type": "stream",
          "name": "stdout",
          "text": [
            "Array: [[ 1  2  3  4]\n",
            " [ 5  6  7  8]\n",
            " [ 9 10 11 12]]\n",
            "Shape: (3, 4)\n",
            "Size: 12\n",
            "Data Type: int64\n",
            "Number of Dimensions: 2\n",
            "Memory in Bytes: 96\n"
          ]
        }
      ]
    },
    {
      "cell_type": "code",
      "source": [
        "a[2,3]"
      ],
      "metadata": {
        "colab": {
          "base_uri": "https://localhost:8080/"
        },
        "id": "uDjAv6ryaHDh",
        "outputId": "db229c22-82b9-4706-e033-f5fb923dfb56"
      },
      "execution_count": 8,
      "outputs": [
        {
          "output_type": "execute_result",
          "data": {
            "text/plain": [
              "12"
            ]
          },
          "metadata": {},
          "execution_count": 8
        }
      ]
    },
    {
      "cell_type": "code",
      "source": [
        "# reshaping multidimensional arrays\n",
        "\n",
        "# create a (3 layers*5 rows in each layer*2 columns in each row) 3D array\n",
        "b = np.array([\n",
        "    [[10, 11], [10, 12], [10, 13], [10, 14], [10, 15]],\n",
        "    [[20, 21], [20, 22], [20, 23], [20, 24], [20, 25]],\n",
        "    [[30, 31], [30, 32], [30, 33], [30, 34], [30, 35]],])\n",
        "\n",
        "print(\"Array:\" , b)\n",
        "print(\"Shape:\", b.shape)\n",
        "print(\"Size:\", b.size)\n",
        "print(\"Data Type:\", b.dtype)\n",
        "print(\"Number of Dimensions:\", b.ndim)\n",
        "print(\"Memory in Bytes:\", b.nbytes)"
      ],
      "metadata": {
        "colab": {
          "base_uri": "https://localhost:8080/"
        },
        "id": "hTCJHk22cyAh",
        "outputId": "7ab5350c-a236-46e7-e036-f86058c7df28"
      },
      "execution_count": 9,
      "outputs": [
        {
          "output_type": "stream",
          "name": "stdout",
          "text": [
            "Array: [[[10 11]\n",
            "  [10 12]\n",
            "  [10 13]\n",
            "  [10 14]\n",
            "  [10 15]]\n",
            "\n",
            " [[20 21]\n",
            "  [20 22]\n",
            "  [20 23]\n",
            "  [20 24]\n",
            "  [20 25]]\n",
            "\n",
            " [[30 31]\n",
            "  [30 32]\n",
            "  [30 33]\n",
            "  [30 34]\n",
            "  [30 35]]]\n",
            "Shape: (3, 5, 2)\n",
            "Size: 30\n",
            "Data Type: int64\n",
            "Number of Dimensions: 3\n",
            "Memory in Bytes: 240\n"
          ]
        }
      ]
    },
    {
      "cell_type": "code",
      "source": [
        "# now we reshape the previous array into (3,10) --it means weare going to flatten up the structure so it has only one layer ,3 rows where each row has 10 coloumns\n",
        "\n",
        "b =b.reshape(3,10)\n",
        "\n",
        "print(\"Array:\",b)"
      ],
      "metadata": {
        "colab": {
          "base_uri": "https://localhost:8080/"
        },
        "id": "ryHzRFNOmiuh",
        "outputId": "da4e946e-701f-48ea-d276-91eec17096e5"
      },
      "execution_count": 10,
      "outputs": [
        {
          "output_type": "stream",
          "name": "stdout",
          "text": [
            "Array: [[10 11 10 12 10 13 10 14 10 15]\n",
            " [20 21 20 22 20 23 20 24 20 25]\n",
            " [30 31 30 32 30 33 30 34 30 35]]\n"
          ]
        }
      ]
    },
    {
      "cell_type": "code",
      "source": [
        "#Adding an Axis /Dimension\n",
        "\n",
        "# here first we are going to create 1D array first\n",
        "\n",
        "a =np.arange(1,10, dtype=int)\n",
        "print(\"Array:\", a)\n",
        "print(\"Shape:\", a.shape)\n",
        "print(\"Size:\", a.size)\n",
        "print(\"Data Type:\", a.dtype)\n",
        "print(\"Number of Dimensions:\", a.ndim)\n",
        "print(\"Memory in Bytes:\", a.nbytes)\n"
      ],
      "metadata": {
        "colab": {
          "base_uri": "https://localhost:8080/"
        },
        "id": "FjcwNqBV_Kyl",
        "outputId": "f8e24da1-7ffe-4437-f4c5-cb4d0c603232"
      },
      "execution_count": 11,
      "outputs": [
        {
          "output_type": "stream",
          "name": "stdout",
          "text": [
            "Array: [1 2 3 4 5 6 7 8 9]\n",
            "Shape: (9,)\n",
            "Size: 9\n",
            "Data Type: int64\n",
            "Number of Dimensions: 1\n",
            "Memory in Bytes: 72\n"
          ]
        }
      ]
    },
    {
      "cell_type": "code",
      "source": [
        "#create a 2D (3x3) array from the 1D array\n",
        "\n",
        "a= a.reshape(3,3)\n",
        "print(\"Array:\", a)\n",
        "print(\"Shape:\", a.shape)\n",
        "print(\"Size:\", a.size)\n",
        "print(\"Data Type:\", a.dtype)\n",
        "print(\"Number of Dimensions:\", a.ndim)\n",
        "print(\"Memory in Bytes:\", a.nbytes)\n"
      ],
      "metadata": {
        "colab": {
          "base_uri": "https://localhost:8080/"
        },
        "id": "OONhodO0A-MT",
        "outputId": "e1fc3404-009f-4e28-e501-bb1cb9c2efe3"
      },
      "execution_count": 12,
      "outputs": [
        {
          "output_type": "stream",
          "name": "stdout",
          "text": [
            "Array: [[1 2 3]\n",
            " [4 5 6]\n",
            " [7 8 9]]\n",
            "Shape: (3, 3)\n",
            "Size: 9\n",
            "Data Type: int64\n",
            "Number of Dimensions: 2\n",
            "Memory in Bytes: 72\n"
          ]
        }
      ]
    },
    {
      "cell_type": "code",
      "source": [
        "#Add a new axis to the 3x3 array to create a 3D array\n",
        "a=a.reshape(1,3,3)\n",
        "print(\"Array:\", a)\n",
        "print(\"Shape:\", a.shape)\n",
        "print(\"Size:\", a.size)\n",
        "print(\"Data Type:\", a.dtype)\n",
        "print(\"Number of Dimensions:\", a.ndim)\n",
        "print(\"Memory in Bytes:\", a.nbytes)"
      ],
      "metadata": {
        "colab": {
          "base_uri": "https://localhost:8080/"
        },
        "id": "4wspV-tmBv9A",
        "outputId": "a596f74d-c77e-4f69-a1c6-311efb17f94f"
      },
      "execution_count": 13,
      "outputs": [
        {
          "output_type": "stream",
          "name": "stdout",
          "text": [
            "Array: [[[1 2 3]\n",
            "  [4 5 6]\n",
            "  [7 8 9]]]\n",
            "Shape: (1, 3, 3)\n",
            "Size: 9\n",
            "Data Type: int64\n",
            "Number of Dimensions: 3\n",
            "Memory in Bytes: 72\n"
          ]
        }
      ]
    },
    {
      "cell_type": "code",
      "source": [
        "a[0]"
      ],
      "metadata": {
        "colab": {
          "base_uri": "https://localhost:8080/"
        },
        "id": "VM7hY4qbCdw_",
        "outputId": "20051d49-9f0c-4120-df0f-f7245ec52578"
      },
      "execution_count": 14,
      "outputs": [
        {
          "output_type": "execute_result",
          "data": {
            "text/plain": [
              "array([[1, 2, 3],\n",
              "       [4, 5, 6],\n",
              "       [7, 8, 9]])"
            ]
          },
          "metadata": {},
          "execution_count": 14
        }
      ]
    },
    {
      "cell_type": "code",
      "source": [
        "a[0,1]"
      ],
      "metadata": {
        "colab": {
          "base_uri": "https://localhost:8080/"
        },
        "id": "FuW7zbxpCydz",
        "outputId": "840d0148-ad7b-4054-8db3-c666de37ce61"
      },
      "execution_count": 15,
      "outputs": [
        {
          "output_type": "execute_result",
          "data": {
            "text/plain": [
              "array([4, 5, 6])"
            ]
          },
          "metadata": {},
          "execution_count": 15
        }
      ]
    },
    {
      "cell_type": "code",
      "source": [
        "a[0,1,2]"
      ],
      "metadata": {
        "colab": {
          "base_uri": "https://localhost:8080/"
        },
        "id": "Hddai9feDVAI",
        "outputId": "754f6dbd-48c8-4805-bb1a-b4e43ed4c3a9"
      },
      "execution_count": 16,
      "outputs": [
        {
          "output_type": "execute_result",
          "data": {
            "text/plain": [
              "6"
            ]
          },
          "metadata": {},
          "execution_count": 16
        }
      ]
    },
    {
      "cell_type": "code",
      "source": [
        "# expand dimensions - Here instead of reshape command we can use expand command to expand dimension\n",
        "\n",
        "# Create a 1D array.\n",
        "print('Create a 1D array:')\n",
        "c = np.arange(1, 10, dtype=int)\n",
        "print(c)\n",
        "print(\"Shape:\", c.shape)\n",
        "print(\"Size:\", c.size)\n",
        "print(\"Data Type:\", c.dtype)\n",
        "print(\"Number of Dimensions:\", c.ndim)\n",
        "print(\"Memory in Bytes:\", c.nbytes)"
      ],
      "metadata": {
        "colab": {
          "base_uri": "https://localhost:8080/"
        },
        "id": "2EW4tumpDc_h",
        "outputId": "2d08bc7a-c902-4a0d-d162-0c6f8af3ea5f"
      },
      "execution_count": 17,
      "outputs": [
        {
          "output_type": "stream",
          "name": "stdout",
          "text": [
            "Create a 1D array:\n",
            "[1 2 3 4 5 6 7 8 9]\n",
            "Shape: (9,)\n",
            "Size: 9\n",
            "Data Type: int64\n",
            "Number of Dimensions: 1\n",
            "Memory in Bytes: 72\n"
          ]
        }
      ]
    },
    {
      "cell_type": "code",
      "source": [
        "#reshape into 2D array(3*3 )\n",
        "\n",
        "c=c.reshape(3,3)\n",
        "print(\"Array:\", c)\n",
        "print(\"Shape:\", c.shape)\n",
        "print(\"Size:\", c.size)\n",
        "print(\"Data Type:\", c.dtype)\n",
        "print(\"Number of Dimensions:\", c.ndim)\n",
        "print(\"Memory in Bytes:\", c.nbytes)"
      ],
      "metadata": {
        "colab": {
          "base_uri": "https://localhost:8080/"
        },
        "id": "h7u7yQMxAc5m",
        "outputId": "3eb303e1-8273-4a46-dc4c-55d7ea24ebc7"
      },
      "execution_count": 18,
      "outputs": [
        {
          "output_type": "stream",
          "name": "stdout",
          "text": [
            "Array: [[1 2 3]\n",
            " [4 5 6]\n",
            " [7 8 9]]\n",
            "Shape: (3, 3)\n",
            "Size: 9\n",
            "Data Type: int64\n",
            "Number of Dimensions: 2\n",
            "Memory in Bytes: 72\n"
          ]
        }
      ]
    },
    {
      "cell_type": "code",
      "source": [
        "c[2]"
      ],
      "metadata": {
        "colab": {
          "base_uri": "https://localhost:8080/"
        },
        "id": "Z2Ms_uJ3BY5V",
        "outputId": "213a6da2-46b5-4c1b-f0a7-2ce109cc611a"
      },
      "execution_count": 20,
      "outputs": [
        {
          "output_type": "execute_result",
          "data": {
            "text/plain": [
              "array([7, 8, 9])"
            ]
          },
          "metadata": {},
          "execution_count": 20
        }
      ]
    },
    {
      "cell_type": "code",
      "source": [
        "#expand dimension using \"np.expand_dims\" command(here we can add more dimensions)\n",
        "\n",
        "print('Using np.expand_dims:')\n",
        "c_expanded = np.expand_dims(c,axis=0)\n",
        "print(c_expanded)\n",
        "print(\"Shape:\", c_expanded.shape)\n",
        "print(\"Size:\", c_expanded.size)\n",
        "print(\"Data Type:\", c_expanded.dtype)\n",
        "print(\"Number of Dimensions:\", c_expanded.ndim)"
      ],
      "metadata": {
        "colab": {
          "base_uri": "https://localhost:8080/"
        },
        "id": "q1pyzZfHBywG",
        "outputId": "b08e787a-ce7e-42ad-d4e5-f865cf87c267"
      },
      "execution_count": 25,
      "outputs": [
        {
          "output_type": "stream",
          "name": "stdout",
          "text": [
            "Using np.expand_dims:\n",
            "[[[1 2 3]\n",
            "  [4 5 6]\n",
            "  [7 8 9]]]\n",
            "Shape: (1, 3, 3)\n",
            "Size: 9\n",
            "Data Type: int64\n",
            "Number of Dimensions: 3\n"
          ]
        }
      ]
    },
    {
      "cell_type": "code",
      "source": [
        "#squeeze\n",
        "\n",
        "e = np.arange(1, 10, dtype=int)\n",
        "e = e.reshape(1, 3, 3)\n",
        "print(e)"
      ],
      "metadata": {
        "colab": {
          "base_uri": "https://localhost:8080/"
        },
        "id": "_CRYA11aUhDo",
        "outputId": "698761bb-ab73-4366-9dfa-a17f21da29d1"
      },
      "execution_count": 28,
      "outputs": [
        {
          "output_type": "stream",
          "name": "stdout",
          "text": [
            "[[[1 2 3]\n",
            "  [4 5 6]\n",
            "  [7 8 9]]]\n"
          ]
        }
      ]
    },
    {
      "cell_type": "code",
      "source": [
        "print(\"no of dimensions:\",e)\n",
        "print(\"array shape:\",e.shape)"
      ],
      "metadata": {
        "colab": {
          "base_uri": "https://localhost:8080/"
        },
        "id": "d07KDayrYYcK",
        "outputId": "9679280a-5d79-41ce-cf34-728fd8326aa5"
      },
      "execution_count": 34,
      "outputs": [
        {
          "output_type": "stream",
          "name": "stdout",
          "text": [
            "no of dimensions: [[[1 2 3]\n",
            "  [4 5 6]\n",
            "  [7 8 9]]]\n",
            "array shape: (1, 3, 3)\n"
          ]
        }
      ]
    },
    {
      "cell_type": "code",
      "source": [
        "#squeeze or remove one dimension using \"np.squeeze\" command\n",
        "print('Squeeze along axis=0:')\n",
        "e_squeezed = np.squeeze(e,axis=0)\n",
        "print(e_squeezed)\n",
        "print(\"shape:\",e_squeezed.shape)"
      ],
      "metadata": {
        "colab": {
          "base_uri": "https://localhost:8080/"
        },
        "id": "Ez51yFJXY9Qc",
        "outputId": "3bc70f71-949c-43c3-b779-b05ba88c4559"
      },
      "execution_count": 35,
      "outputs": [
        {
          "output_type": "stream",
          "name": "stdout",
          "text": [
            "Squeeze along axis=0:\n",
            "[[1 2 3]\n",
            " [4 5 6]\n",
            " [7 8 9]]\n",
            "shape: (3, 3)\n"
          ]
        }
      ]
    },
    {
      "cell_type": "code",
      "source": [
        "# reshape the array axel without specifing a length\n",
        "\n",
        "f =np.arange(10)\n",
        "\n",
        "print(f)\n"
      ],
      "metadata": {
        "colab": {
          "base_uri": "https://localhost:8080/"
        },
        "id": "VZ2pJTEZuwa6",
        "outputId": "d875b859-cec2-4af9-bd8b-000a2ce633b5"
      },
      "execution_count": 38,
      "outputs": [
        {
          "output_type": "stream",
          "name": "stdout",
          "text": [
            "[0 1 2 3 4 5 6 7 8 9]\n"
          ]
        }
      ]
    },
    {
      "cell_type": "code",
      "source": [
        "#reshape the array as two columns\n",
        "\n",
        "f =f.reshape (-1,2)\n",
        "\n",
        "print(f)"
      ],
      "metadata": {
        "colab": {
          "base_uri": "https://localhost:8080/"
        },
        "id": "kRRFXwpmvdK6",
        "outputId": "6b24f3c4-30fb-4d48-9814-4a1c70c05a9d"
      },
      "execution_count": 39,
      "outputs": [
        {
          "output_type": "stream",
          "name": "stdout",
          "text": [
            "[[0 1]\n",
            " [2 3]\n",
            " [4 5]\n",
            " [6 7]\n",
            " [8 9]]\n"
          ]
        }
      ]
    },
    {
      "cell_type": "code",
      "source": [
        "#lets create a new array and reshape the array as two rows\n",
        "#first create an array of 10 elements\n",
        "g =np.arange(10)\n",
        "print(g)\n",
        "\n"
      ],
      "metadata": {
        "colab": {
          "base_uri": "https://localhost:8080/"
        },
        "id": "RXS8T89xvxMC",
        "outputId": "9b4d9ca0-24ec-42c6-8f84-2f0f860def0c"
      },
      "execution_count": 43,
      "outputs": [
        {
          "output_type": "stream",
          "name": "stdout",
          "text": [
            "[0 1 2 3 4 5 6 7 8 9]\n"
          ]
        }
      ]
    },
    {
      "cell_type": "code",
      "source": [
        "#now lets reshape the array as two rows\n",
        "\n",
        "g =g.reshape(2,-1)\n",
        "print(g)"
      ],
      "metadata": {
        "colab": {
          "base_uri": "https://localhost:8080/"
        },
        "id": "hFqdiibczX5D",
        "outputId": "6eeea64d-a658-436b-bc1d-9ebf51565836"
      },
      "execution_count": 44,
      "outputs": [
        {
          "output_type": "stream",
          "name": "stdout",
          "text": [
            "[[0 1 2 3 4]\n",
            " [5 6 7 8 9]]\n"
          ]
        }
      ]
    },
    {
      "cell_type": "code",
      "source": [
        "#Flattening arrays (to understand how images are processed in CNN -convolution neural network)\n",
        "\n",
        "# Create three separate 4x4 arrays.\n",
        "h1 = np.full((4, 4), 1, dtype='float32') # 4x4 array filled with 1s\n",
        "h2 = np.full((4, 4), 2, dtype='float32')# 4x4 array filled with 2s\n",
        "h3 = np.full((4, 4), 3, dtype='float32')# 4x4 array filled with 3s\n",
        "\n",
        "# Create a 3x4x4 array.\n",
        "h = np.zeros((3, 4, 4)) # 3dimension 4*4 array filled with zero\n",
        "\n",
        "\n",
        "# Assign each 4x4 array to one \"layer\" in the 3D array\n",
        "h[0] = h1  # First layer is filled with 1s\n",
        "h[1] = h2 # second layer is filled with 2s\n",
        "h[2] = h3 # third layer is filled with 3s\n",
        "\n",
        "print(h)\n",
        "print(\"Shape:\", h.shape)\n",
        "print(\"Size:\", h.size)\n",
        "print(\"Data Type:\", h.dtype)\n",
        "print(\"Number of Dimensions:\", h.ndim)\n",
        "print(\"Memory in Bytes:\", h.nbytes)\n",
        "\n",
        "\n",
        "\n",
        "\n"
      ],
      "metadata": {
        "colab": {
          "base_uri": "https://localhost:8080/"
        },
        "id": "ALibsb92z7UB",
        "outputId": "45cd131f-7396-4b8a-cc65-d1a00cb099dc"
      },
      "execution_count": 46,
      "outputs": [
        {
          "output_type": "stream",
          "name": "stdout",
          "text": [
            "[[[1. 1. 1. 1.]\n",
            "  [1. 1. 1. 1.]\n",
            "  [1. 1. 1. 1.]\n",
            "  [1. 1. 1. 1.]]\n",
            "\n",
            " [[2. 2. 2. 2.]\n",
            "  [2. 2. 2. 2.]\n",
            "  [2. 2. 2. 2.]\n",
            "  [2. 2. 2. 2.]]\n",
            "\n",
            " [[3. 3. 3. 3.]\n",
            "  [3. 3. 3. 3.]\n",
            "  [3. 3. 3. 3.]\n",
            "  [3. 3. 3. 3.]]]\n",
            "Shape: (3, 4, 4)\n",
            "Size: 48\n",
            "Data Type: float64\n",
            "Number of Dimensions: 3\n",
            "Memory in Bytes: 384\n"
          ]
        }
      ]
    },
    {
      "cell_type": "code",
      "source": [
        "\n",
        "# reshape into 1D (3*16) to flatten the structure\n",
        "\n",
        "h =h.reshape(3,16) # reshape into 3 rows and 16 columns per each row\n",
        "\n",
        "print(h)"
      ],
      "metadata": {
        "colab": {
          "base_uri": "https://localhost:8080/"
        },
        "id": "QO8P0Qgy-Ym6",
        "outputId": "03b0b4de-9285-48ca-f6ea-e45cf0512661"
      },
      "execution_count": 47,
      "outputs": [
        {
          "output_type": "stream",
          "name": "stdout",
          "text": [
            "[[1. 1. 1. 1. 1. 1. 1. 1. 1. 1. 1. 1. 1. 1. 1. 1.]\n",
            " [2. 2. 2. 2. 2. 2. 2. 2. 2. 2. 2. 2. 2. 2. 2. 2.]\n",
            " [3. 3. 3. 3. 3. 3. 3. 3. 3. 3. 3. 3. 3. 3. 3. 3.]]\n"
          ]
        }
      ]
    },
    {
      "cell_type": "code",
      "source": [
        "#combining arrays\n",
        "\n",
        "#concatanate\n",
        "\n",
        "a1 = np.array([[1, 2, 3], [4, 5, 6]])\n",
        "print(\"array a1:\",a1)\n",
        "print(\"shape:\",a1.shape)\n",
        "print(\"dimension:\",a1.ndim)\n",
        "\n",
        "a2 = np.array([[7, 8, 9]])\n",
        "print(\"array a2:\",a2)\n",
        "print(\"shape:\",a2.shape)\n",
        "print(\"dimension:\",a2.ndim)\n",
        "\n",
        "a3= np.concatenate((a1,a2),axis=0) # concatanate a1 and a2\n",
        "print(\"array a3:\",a3)\n",
        "print(\"Shape:\", a3.shape)\n",
        "\n",
        "print(\" Dimensions:\", a3.ndim)\n"
      ],
      "metadata": {
        "colab": {
          "base_uri": "https://localhost:8080/"
        },
        "id": "vXhbZgGDNqB8",
        "outputId": "daa80d33-33d6-4389-e6d5-96152fb7ed9f"
      },
      "execution_count": 71,
      "outputs": [
        {
          "output_type": "stream",
          "name": "stdout",
          "text": [
            "array a1: [[1 2 3]\n",
            " [4 5 6]]\n",
            "shape: (2, 3)\n",
            "dimension: 2\n",
            "array a2: [[7 8 9]]\n",
            "shape: (1, 3)\n",
            "dimension: 2\n",
            "array a3: [[1 2 3]\n",
            " [4 5 6]\n",
            " [7 8 9]]\n",
            "Shape: (3, 3)\n",
            " Dimensions: 2\n"
          ]
        }
      ]
    },
    {
      "cell_type": "code",
      "source": [
        "#Hstack (horizontal stack)\n",
        "a1 = np.array([[1, 1, 1], [2, 2, 2]])\n",
        "print(\"a1:\",a1)\n",
        "print(\"a1 shape:\",a1.shape)\n",
        "a2 = np.array([[3, 3, 3, 3], [4, 4, 4, 4]])\n",
        "print(\"a2:\",a2)\n",
        "print(\"a2 shape:\",a2.shape)\n",
        "\n",
        "h_stacked =np.hstack((a1,a2))\n",
        "print(\"horizontally stacked:\",h_stacked)\n",
        "print(\"Shape:\", h_stacked.shape)"
      ],
      "metadata": {
        "colab": {
          "base_uri": "https://localhost:8080/"
        },
        "id": "lV9RbafvPI6L",
        "outputId": "62a45635-5f53-45d1-9a93-965adfa8e37e"
      },
      "execution_count": 76,
      "outputs": [
        {
          "output_type": "stream",
          "name": "stdout",
          "text": [
            "a1: [[1 1 1]\n",
            " [2 2 2]]\n",
            "a1 shape: (2, 3)\n",
            "a2: [[3 3 3 3]\n",
            " [4 4 4 4]]\n",
            "a2 shape: (2, 4)\n",
            "horizontally stacked: [[1 1 1 3 3 3 3]\n",
            " [2 2 2 4 4 4 4]]\n",
            "Shape: (2, 7)\n"
          ]
        }
      ]
    },
    {
      "cell_type": "code",
      "source": [
        "#another simple example for hstack\n",
        "x =np.array ([[1],[2],[3]]) #array x with 3*1\n",
        "print(x)\n",
        "print(\"shape:\",x.shape)\n",
        "print(\"dimension:\",x.ndim)\n"
      ],
      "metadata": {
        "colab": {
          "base_uri": "https://localhost:8080/"
        },
        "id": "Yvcr-UckWOAb",
        "outputId": "a701da61-ab1a-4b41-a884-f7a8b166b0ac"
      },
      "execution_count": 84,
      "outputs": [
        {
          "output_type": "stream",
          "name": "stdout",
          "text": [
            "[[1]\n",
            " [2]\n",
            " [3]]\n",
            "shape: (3, 1)\n",
            "dimension: 2\n"
          ]
        }
      ]
    },
    {
      "cell_type": "code",
      "source": [
        "y = np.array([[4],[5],[6]]) ##array y with 3*1\n",
        "print(y)\n",
        "print(\"shape:\",y.shape)\n",
        "print(\"dimension:\",y.ndim)"
      ],
      "metadata": {
        "colab": {
          "base_uri": "https://localhost:8080/"
        },
        "id": "LnERW-4WYV_9",
        "outputId": "82a5d980-f4d3-4266-bf5b-29e7bc6fb239"
      },
      "execution_count": 88,
      "outputs": [
        {
          "output_type": "stream",
          "name": "stdout",
          "text": [
            "[[4]\n",
            " [5]\n",
            " [6]]\n",
            "shape: (3, 1)\n",
            "dimension: 2\n"
          ]
        }
      ]
    },
    {
      "cell_type": "code",
      "source": [
        "#now horizontal stacking for both x and y\n",
        "h_stacked =np.hstack((x,y))\n",
        "print(\"horizontally stacked:\",h_stacked)\n",
        "print(\"Shape:\", h_stacked.shape)"
      ],
      "metadata": {
        "colab": {
          "base_uri": "https://localhost:8080/"
        },
        "id": "Hr2FMtG5YxZz",
        "outputId": "36f36713-cd05-48bc-f326-d01aac2abdf3"
      },
      "execution_count": 89,
      "outputs": [
        {
          "output_type": "stream",
          "name": "stdout",
          "text": [
            "horizontally stacked: [[1 4]\n",
            " [2 5]\n",
            " [3 6]]\n",
            "Shape: (3, 2)\n"
          ]
        }
      ]
    },
    {
      "cell_type": "code",
      "source": [
        "#now lets try vertical stacking\n",
        "\n",
        "a = np.array([[10],[20],[30]]) #2D array with 1*3\n",
        "print(a)\n",
        "print(\"shape:\",a.shape)\n",
        "print(\"dimension:\",a.ndim)"
      ],
      "metadata": {
        "colab": {
          "base_uri": "https://localhost:8080/"
        },
        "id": "JZqzBqWAbb90",
        "outputId": "90ae0646-12be-450c-bcec-ef4813dd3b95"
      },
      "execution_count": 93,
      "outputs": [
        {
          "output_type": "stream",
          "name": "stdout",
          "text": [
            "[[10]\n",
            " [20]\n",
            " [30]]\n",
            "shape: (3, 1)\n",
            "dimension: 2\n"
          ]
        }
      ]
    },
    {
      "cell_type": "code",
      "source": [
        "b =np.array([[40],[50],[60]])\n",
        "print( b)\n",
        "print(\"shape:\",b.shape)\n",
        "print(\"dimension:\",b.ndim)"
      ],
      "metadata": {
        "colab": {
          "base_uri": "https://localhost:8080/"
        },
        "id": "0D6pXG8lcdhO",
        "outputId": "c51655ec-a1c6-4eda-d964-5d36865daca5"
      },
      "execution_count": 94,
      "outputs": [
        {
          "output_type": "stream",
          "name": "stdout",
          "text": [
            "[[40]\n",
            " [50]\n",
            " [60]]\n",
            "shape: (3, 1)\n",
            "dimension: 2\n"
          ]
        }
      ]
    },
    {
      "cell_type": "code",
      "source": [
        "#vertical stacking\n",
        "\n",
        "z =np.vstack((a,b))\n",
        "print(\"vertically stacked :\" , z)\n",
        "print(\"shape:\",z.shape)\n",
        "print(\"dimension:\",z.ndim)"
      ],
      "metadata": {
        "colab": {
          "base_uri": "https://localhost:8080/"
        },
        "id": "YEv4_iFNdM-U",
        "outputId": "658eda77-cd48-4e8c-eda9-cd9cd009a9e4"
      },
      "execution_count": 97,
      "outputs": [
        {
          "output_type": "stream",
          "name": "stdout",
          "text": [
            "vertically stacked : [[10]\n",
            " [20]\n",
            " [30]\n",
            " [40]\n",
            " [50]\n",
            " [60]]\n",
            "shape: (6, 1)\n",
            "dimension: 2\n"
          ]
        }
      ]
    },
    {
      "cell_type": "code",
      "source": [
        "# another example\n",
        "# Create three separate 1x4x4 arrays.\n",
        "h1 = np.full((1, 4, 4), 1, dtype='float32')\n",
        "\n",
        "\n",
        "h2 = np.full((1, 4, 4), 2, dtype='float32')\n",
        "h3 = np.full((1, 4, 4), 3, dtype='float32')\n",
        "\n",
        "h = np.vstack((h1, h2, h3))\n",
        "\n",
        "print(h)\n",
        "print(\"Shape:\", h.shape)\n",
        "print(\"Size:\", h.size)\n",
        "print(\"Data Type:\", h.dtype)\n",
        "print(\"Number of Dimensions:\", h.ndim)\n",
        "print(\"Memory in Bytes:\", h.nbytes)"
      ],
      "metadata": {
        "colab": {
          "base_uri": "https://localhost:8080/"
        },
        "id": "im3tRFqtemk4",
        "outputId": "2ed343c9-20ae-47b9-b9da-6aab0cecc7bb"
      },
      "execution_count": 101,
      "outputs": [
        {
          "output_type": "stream",
          "name": "stdout",
          "text": [
            "[[[1. 1. 1. 1.]\n",
            "  [1. 1. 1. 1.]\n",
            "  [1. 1. 1. 1.]\n",
            "  [1. 1. 1. 1.]]\n",
            "\n",
            " [[2. 2. 2. 2.]\n",
            "  [2. 2. 2. 2.]\n",
            "  [2. 2. 2. 2.]\n",
            "  [2. 2. 2. 2.]]\n",
            "\n",
            " [[3. 3. 3. 3.]\n",
            "  [3. 3. 3. 3.]\n",
            "  [3. 3. 3. 3.]\n",
            "  [3. 3. 3. 3.]]]\n",
            "Shape: (3, 4, 4)\n",
            "Size: 48\n",
            "Data Type: float32\n",
            "Number of Dimensions: 3\n",
            "Memory in Bytes: 192\n"
          ]
        }
      ]
    }
  ]
}