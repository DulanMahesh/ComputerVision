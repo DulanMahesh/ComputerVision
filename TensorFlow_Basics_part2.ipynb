{
  "nbformat": 4,
  "nbformat_minor": 0,
  "metadata": {
    "colab": {
      "provenance": [],
      "authorship_tag": "ABX9TyObWmKPpZMTA86yT3zFdjdq",
      "include_colab_link": true
    },
    "kernelspec": {
      "name": "python3",
      "display_name": "Python 3"
    },
    "language_info": {
      "name": "python"
    }
  },
  "cells": [
    {
      "cell_type": "markdown",
      "metadata": {
        "id": "view-in-github",
        "colab_type": "text"
      },
      "source": [
        "<a href=\"https://colab.research.google.com/github/DulanMahesh/ComputerVision/blob/main/TensorFlow_Basics_part2.ipynb\" target=\"_parent\"><img src=\"https://colab.research.google.com/assets/colab-badge.svg\" alt=\"Open In Colab\"/></a>"
      ]
    },
    {
      "cell_type": "code",
      "execution_count": 17,
      "metadata": {
        "id": "dKY-DRu42-6M"
      },
      "outputs": [],
      "source": [
        "import tensorflow as tf\n",
        "import numpy as np\n",
        "import random\n",
        "import matplotlib.pyplot as plt"
      ]
    },
    {
      "cell_type": "code",
      "source": [
        "SEED_VALUE = 42\n",
        "\n",
        "# Fix random number seed.\n",
        "random.seed(SEED_VALUE)\n",
        "np.random.seed(SEED_VALUE)\n",
        "tf.random.set_seed(SEED_VALUE)"
      ],
      "metadata": {
        "id": "UGUgAdQ23IpA"
      },
      "execution_count": 18,
      "outputs": []
    },
    {
      "cell_type": "code",
      "source": [
        "#create two constant tensors\n",
        "tensor1 = tf.constant([[1, 2, 3], [4, 5, 6]])\n",
        "tensor2 = tf.constant([[7, 8, 9], [10, 11, 12]])\n",
        "\n",
        "print(tensor1)\n",
        "print(tensor2)"
      ],
      "metadata": {
        "colab": {
          "base_uri": "https://localhost:8080/"
        },
        "id": "Zy0oQMiI3RC2",
        "outputId": "040b9b13-d45c-492c-b326-ceabdf80b772"
      },
      "execution_count": 19,
      "outputs": [
        {
          "output_type": "stream",
          "name": "stdout",
          "text": [
            "tf.Tensor(\n",
            "[[1 2 3]\n",
            " [4 5 6]], shape=(2, 3), dtype=int32)\n",
            "tf.Tensor(\n",
            "[[ 7  8  9]\n",
            " [10 11 12]], shape=(2, 3), dtype=int32)\n"
          ]
        }
      ]
    },
    {
      "cell_type": "code",
      "source": [
        "#concatanate rensors along axix 0\n",
        "\n",
        "print(tf.concat([tensor1,tensor2],axis=0))"
      ],
      "metadata": {
        "colab": {
          "base_uri": "https://localhost:8080/"
        },
        "id": "wFJkn_TL3pfJ",
        "outputId": "8b26f04c-aaae-43e5-fa23-a84ecff87cee"
      },
      "execution_count": 20,
      "outputs": [
        {
          "output_type": "stream",
          "name": "stdout",
          "text": [
            "tf.Tensor(\n",
            "[[ 1  2  3]\n",
            " [ 4  5  6]\n",
            " [ 7  8  9]\n",
            " [10 11 12]], shape=(4, 3), dtype=int32)\n"
          ]
        }
      ]
    },
    {
      "cell_type": "code",
      "source": [
        "#concatanate tensors along axis1\n",
        "\n",
        "print (tf.concat([tensor1,tensor2],axis=1))"
      ],
      "metadata": {
        "colab": {
          "base_uri": "https://localhost:8080/"
        },
        "id": "r20WCSkg5iIC",
        "outputId": "37f99b05-486e-4fce-994b-339b626e7d13"
      },
      "execution_count": 21,
      "outputs": [
        {
          "output_type": "stream",
          "name": "stdout",
          "text": [
            "tf.Tensor(\n",
            "[[ 1  2  3  7  8  9]\n",
            " [ 4  5  6 10 11 12]], shape=(2, 6), dtype=int32)\n"
          ]
        }
      ]
    },
    {
      "cell_type": "code",
      "source": [
        "#tensor flow variables\n",
        "\n",
        "# Create a tensor variable.\n",
        "tensor = tf.Variable([2, 4])\n",
        "\n",
        "# You must use the assign() method to assign a new value to a tensorflow variable\n",
        "tensor[0].assign(42)\n",
        "print(tensor[0])\n",
        "\n",
        "print(tensor[1])\n"
      ],
      "metadata": {
        "id": "Caiz0AB5fHQx",
        "colab": {
          "base_uri": "https://localhost:8080/"
        },
        "outputId": "1c64953a-583a-4a41-de4b-02e7ffc27015"
      },
      "execution_count": 22,
      "outputs": [
        {
          "output_type": "stream",
          "name": "stdout",
          "text": [
            "tf.Tensor(42, shape=(), dtype=int32)\n",
            "tf.Tensor(4, shape=(), dtype=int32)\n"
          ]
        }
      ]
    },
    {
      "cell_type": "code",
      "source": [
        "#tensorflow reduce functions\n",
        "\n",
        "# these functions start with the name 'reduce' (e.g., reduce_sum() instead of just sum()).\n",
        "\n",
        "# Create some data.\n",
        "x = 10 * tf.random.uniform(shape=[3,5])\n",
        "print(x)"
      ],
      "metadata": {
        "id": "rZ2WAEjY54ee",
        "outputId": "5fdec18b-4ddf-412b-d080-ac52aebcfabe",
        "colab": {
          "base_uri": "https://localhost:8080/"
        }
      },
      "execution_count": 23,
      "outputs": [
        {
          "output_type": "stream",
          "name": "stdout",
          "text": [
            "tf.Tensor(\n",
            "[[6.6456213  4.4100676  3.528825   4.6448255  0.33660412]\n",
            " [6.8467236  7.4011745  8.724445   2.2632635  2.2319686 ]\n",
            " [3.103881   7.223358   1.3318717  5.4806385  5.746088  ]], shape=(3, 5), dtype=float32)\n"
          ]
        }
      ]
    },
    {
      "cell_type": "code",
      "source": [
        "# Compute the following quantities for all axes..\n",
        "xmin  = tf.reduce_min (x)\n",
        "xmax  = tf.reduce_max (x)\n",
        "xmean = tf.reduce_mean(x)\n",
        "xsum  = tf.reduce_sum (x)\n",
        "\n",
        "print('\\nComputed over all axes:\\n')\n",
        "print('min:  ', xmin)\n",
        "print('max:  ', xmax)\n",
        "print('mean: ', xmean)\n",
        "print('sum:  ', xsum)"
      ],
      "metadata": {
        "id": "nf43QqMu6KrY",
        "outputId": "dac4fe0d-f2f9-4071-b91b-7edfe7eb6f7e",
        "colab": {
          "base_uri": "https://localhost:8080/"
        }
      },
      "execution_count": 24,
      "outputs": [
        {
          "output_type": "stream",
          "name": "stdout",
          "text": [
            "\n",
            "Computed over all axes:\n",
            "\n",
            "min:   tf.Tensor(0.33660412, shape=(), dtype=float32)\n",
            "max:   tf.Tensor(8.724445, shape=(), dtype=float32)\n",
            "mean:  tf.Tensor(4.6612906, shape=(), dtype=float32)\n",
            "sum:   tf.Tensor(69.91936, shape=(), dtype=float32)\n"
          ]
        }
      ]
    },
    {
      "cell_type": "code",
      "source": [
        "# Compute the quantities for axis = 1(column wise)\n",
        "xmin  = tf.reduce_min (x, axis=1)\n",
        "xmax  = tf.reduce_max (x, axis=1)\n",
        "xmean = tf.reduce_mean(x, axis=1)\n",
        "xsum  = tf.reduce_sum (x, axis=1)\n",
        "\n",
        "print('\\nComputed for axis 1:\\n')\n",
        "print('min:  ', xmin)\n",
        "print('max:  ', xmax)\n",
        "print('mean: ', xmean)\n",
        "print('sum:  ', xsum)"
      ],
      "metadata": {
        "id": "6yWij5ja7VN2",
        "outputId": "e87d46e5-9cf4-474c-abd3-86e95b66b805",
        "colab": {
          "base_uri": "https://localhost:8080/"
        }
      },
      "execution_count": 25,
      "outputs": [
        {
          "output_type": "stream",
          "name": "stdout",
          "text": [
            "\n",
            "Computed for axis 1:\n",
            "\n",
            "min:   tf.Tensor([0.33660412 2.2319686  1.3318717 ], shape=(3,), dtype=float32)\n",
            "max:   tf.Tensor([6.6456213 8.724445  7.223358 ], shape=(3,), dtype=float32)\n",
            "mean:  tf.Tensor([3.913189  5.493515  4.5771675], shape=(3,), dtype=float32)\n",
            "sum:   tf.Tensor([19.565945 27.467575 22.885838], shape=(3,), dtype=float32)\n"
          ]
        }
      ]
    },
    {
      "cell_type": "code",
      "source": [
        "#compute the quantitiess for axis=0 (row wise)\n",
        "\n",
        "xmin =tf.reduce_min(x,axis=0)\n",
        "xmax =tf.reduce_max(x,axis=0)\n",
        "xmean=tf.reduce_mean(x,axis=0)\n",
        "xsum =tf.reduce_sum(x,axis=0)\n",
        "\n",
        "print('\\nComputed for axis 0:\\n')\n",
        "print('min:  ', xmin)\n",
        "print('max:  ', xmax)\n",
        "print('mean: ', xmean)\n",
        "print('sum:  ', xsum)"
      ],
      "metadata": {
        "id": "PU94IF6W8A1g",
        "outputId": "5eeb2dea-e53e-4917-e3eb-160b6beb5dc9",
        "colab": {
          "base_uri": "https://localhost:8080/"
        }
      },
      "execution_count": 26,
      "outputs": [
        {
          "output_type": "stream",
          "name": "stdout",
          "text": [
            "\n",
            "Computed for axis 0:\n",
            "\n",
            "min:   tf.Tensor([3.103881   4.4100676  1.3318717  2.2632635  0.33660412], shape=(5,), dtype=float32)\n",
            "max:   tf.Tensor([6.8467236 7.4011745 8.724445  5.4806385 5.746088 ], shape=(5,), dtype=float32)\n",
            "mean:  tf.Tensor([5.5320754 6.3448663 4.528381  4.1295757 2.7715538], shape=(5,), dtype=float32)\n",
            "sum:   tf.Tensor([16.596226 19.0346   13.585142 12.388727  8.314661], shape=(5,), dtype=float32)\n"
          ]
        }
      ]
    },
    {
      "cell_type": "code",
      "source": [
        "# tensor flow indexing (gather)\n",
        "\n",
        "##first lets see how numpy array indexing is done\n",
        "# Create some data.\n",
        "num_data = 24\n",
        "data = np.random.uniform(0, 10, num_data)#it create 24 data points in between 0 and 10\n",
        "print('data: \\n', data)\n",
        "print('\\n')\n",
        "\n",
        "# Create an array of random indices.\n",
        "indices = np.random.choice(data.shape[0], 5, replace=False)\n",
        "print('indices: ', indices)\n",
        "print('\\n')\n",
        "\n",
        "# Use the indices array to select the corresponding elements from the data array.\n",
        "selected_data = data[indices]\n",
        "\n",
        "print('selected_data: ', selected_data)\n"
      ],
      "metadata": {
        "id": "77LYvbyv9oYx",
        "outputId": "97887897-0130-483d-e244-e1732bdd0af8",
        "colab": {
          "base_uri": "https://localhost:8080/"
        }
      },
      "execution_count": 27,
      "outputs": [
        {
          "output_type": "stream",
          "name": "stdout",
          "text": [
            "data: \n",
            " [3.74540119 9.50714306 7.31993942 5.98658484 1.5601864  1.5599452\n",
            " 0.58083612 8.66176146 6.01115012 7.08072578 0.20584494 9.69909852\n",
            " 8.32442641 2.12339111 1.81824967 1.8340451  3.04242243 5.24756432\n",
            " 4.31945019 2.9122914  6.11852895 1.39493861 2.92144649 3.66361843]\n",
            "\n",
            "\n",
            "indices:  [ 0  5 20 15 13]\n",
            "\n",
            "\n",
            "selected_data:  [3.74540119 1.5599452  6.11852895 1.8340451  2.12339111]\n"
          ]
        }
      ]
    }
  ]
}