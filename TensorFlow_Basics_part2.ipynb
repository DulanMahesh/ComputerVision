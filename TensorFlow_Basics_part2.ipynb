{
  "nbformat": 4,
  "nbformat_minor": 0,
  "metadata": {
    "colab": {
      "provenance": [],
      "authorship_tag": "ABX9TyMk48CmN0kpYPi6c1EJhUvU",
      "include_colab_link": true
    },
    "kernelspec": {
      "name": "python3",
      "display_name": "Python 3"
    },
    "language_info": {
      "name": "python"
    }
  },
  "cells": [
    {
      "cell_type": "markdown",
      "metadata": {
        "id": "view-in-github",
        "colab_type": "text"
      },
      "source": [
        "<a href=\"https://colab.research.google.com/github/DulanMahesh/ComputerVision/blob/main/TensorFlow_Basics_part2.ipynb\" target=\"_parent\"><img src=\"https://colab.research.google.com/assets/colab-badge.svg\" alt=\"Open In Colab\"/></a>"
      ]
    },
    {
      "cell_type": "code",
      "execution_count": 1,
      "metadata": {
        "id": "dKY-DRu42-6M"
      },
      "outputs": [],
      "source": [
        "import tensorflow as tf\n",
        "import numpy as np\n",
        "import random\n",
        "import matplotlib.pyplot as plt"
      ]
    },
    {
      "cell_type": "code",
      "source": [
        "SEED_VALUE = 42\n",
        "\n",
        "# Fix random number seed.\n",
        "random.seed(SEED_VALUE)\n",
        "np.random.seed(SEED_VALUE)\n",
        "tf.random.set_seed(SEED_VALUE)"
      ],
      "metadata": {
        "id": "UGUgAdQ23IpA"
      },
      "execution_count": 2,
      "outputs": []
    },
    {
      "cell_type": "code",
      "source": [
        "#create two constant tensors\n",
        "tensor1 = tf.constant([[1, 2, 3], [4, 5, 6]])\n",
        "tensor2 = tf.constant([[7, 8, 9], [10, 11, 12]])\n",
        "\n",
        "print(tensor1)\n",
        "print(tensor2)"
      ],
      "metadata": {
        "colab": {
          "base_uri": "https://localhost:8080/"
        },
        "id": "Zy0oQMiI3RC2",
        "outputId": "6891b2c4-7a8b-429f-b726-61c04132cc57"
      },
      "execution_count": 3,
      "outputs": [
        {
          "output_type": "stream",
          "name": "stdout",
          "text": [
            "tf.Tensor(\n",
            "[[1 2 3]\n",
            " [4 5 6]], shape=(2, 3), dtype=int32)\n",
            "tf.Tensor(\n",
            "[[ 7  8  9]\n",
            " [10 11 12]], shape=(2, 3), dtype=int32)\n"
          ]
        }
      ]
    },
    {
      "cell_type": "code",
      "source": [
        "#concatanate rensors along axix 0\n",
        "\n",
        "print(tf.concat([tensor1,tensor2],axis=0))"
      ],
      "metadata": {
        "colab": {
          "base_uri": "https://localhost:8080/"
        },
        "id": "wFJkn_TL3pfJ",
        "outputId": "419b439c-1dbf-4019-ae96-d9100f100e9e"
      },
      "execution_count": 4,
      "outputs": [
        {
          "output_type": "stream",
          "name": "stdout",
          "text": [
            "tf.Tensor(\n",
            "[[ 1  2  3]\n",
            " [ 4  5  6]\n",
            " [ 7  8  9]\n",
            " [10 11 12]], shape=(4, 3), dtype=int32)\n"
          ]
        }
      ]
    },
    {
      "cell_type": "code",
      "source": [
        "#concatanate tensors along axis1\n",
        "\n",
        "print (tf.concat([tensor1,tensor2],axis=1))"
      ],
      "metadata": {
        "colab": {
          "base_uri": "https://localhost:8080/"
        },
        "id": "r20WCSkg5iIC",
        "outputId": "7a9d17ad-332e-44d8-d0c3-9d4f6c08fe84"
      },
      "execution_count": 5,
      "outputs": [
        {
          "output_type": "stream",
          "name": "stdout",
          "text": [
            "tf.Tensor(\n",
            "[[ 1  2  3  7  8  9]\n",
            " [ 4  5  6 10 11 12]], shape=(2, 6), dtype=int32)\n"
          ]
        }
      ]
    },
    {
      "cell_type": "code",
      "source": [
        "#tensor flow variables\n",
        "\n",
        "# Create a tensor variable.\n",
        "tensor = tf.Variable([2, 4])\n",
        "\n",
        "# You must use the assign() method to assign a new value to a tensorflow variable\n",
        "tensor[0].assign(42)\n",
        "print(tensor[0])\n",
        "\n",
        "print(tensor[1])\n"
      ],
      "metadata": {
        "id": "Caiz0AB5fHQx",
        "colab": {
          "base_uri": "https://localhost:8080/"
        },
        "outputId": "9b28dd3e-c918-4a64-a9a6-4045ba83fa29"
      },
      "execution_count": 6,
      "outputs": [
        {
          "output_type": "stream",
          "name": "stdout",
          "text": [
            "tf.Tensor(42, shape=(), dtype=int32)\n",
            "tf.Tensor(4, shape=(), dtype=int32)\n"
          ]
        }
      ]
    },
    {
      "cell_type": "code",
      "source": [
        "#tensorflow reduce functions\n",
        "\n",
        "# these functions start with the name 'reduce' (e.g., reduce_sum() instead of just sum()).\n",
        "\n",
        "# Create some data.\n",
        "x = 10 * tf.random.uniform(shape=[3,5])\n",
        "print(x)"
      ],
      "metadata": {
        "colab": {
          "base_uri": "https://localhost:8080/"
        },
        "id": "rZ2WAEjY54ee",
        "outputId": "346810d4-8498-45ff-e500-7ed6c1dbb884"
      },
      "execution_count": 7,
      "outputs": [
        {
          "output_type": "stream",
          "name": "stdout",
          "text": [
            "tf.Tensor(\n",
            "[[6.6456213  4.4100676  3.528825   4.6448255  0.33660412]\n",
            " [6.8467236  7.4011745  8.724445   2.2632635  2.2319686 ]\n",
            " [3.103881   7.223358   1.3318717  5.4806385  5.746088  ]], shape=(3, 5), dtype=float32)\n"
          ]
        }
      ]
    },
    {
      "cell_type": "code",
      "source": [
        "# Compute the following quantities for all axes..\n",
        "xmin  = tf.reduce_min (x)\n",
        "xmax  = tf.reduce_max (x)\n",
        "xmean = tf.reduce_mean(x)\n",
        "xsum  = tf.reduce_sum (x)\n",
        "\n",
        "print('\\nComputed over all axes:\\n')\n",
        "print('min:  ', xmin)\n",
        "print('max:  ', xmax)\n",
        "print('mean: ', xmean)\n",
        "print('sum:  ', xsum)"
      ],
      "metadata": {
        "colab": {
          "base_uri": "https://localhost:8080/"
        },
        "id": "nf43QqMu6KrY",
        "outputId": "b6abc132-391b-457f-8ee1-8f96a3249a4d"
      },
      "execution_count": 8,
      "outputs": [
        {
          "output_type": "stream",
          "name": "stdout",
          "text": [
            "\n",
            "Computed over all axes:\n",
            "\n",
            "min:   tf.Tensor(0.33660412, shape=(), dtype=float32)\n",
            "max:   tf.Tensor(8.724445, shape=(), dtype=float32)\n",
            "mean:  tf.Tensor(4.6612906, shape=(), dtype=float32)\n",
            "sum:   tf.Tensor(69.91936, shape=(), dtype=float32)\n"
          ]
        }
      ]
    },
    {
      "cell_type": "code",
      "source": [
        "# Compute the quantities for axis = 1(column wise)\n",
        "xmin  = tf.reduce_min (x, axis=1)\n",
        "xmax  = tf.reduce_max (x, axis=1)\n",
        "xmean = tf.reduce_mean(x, axis=1)\n",
        "xsum  = tf.reduce_sum (x, axis=1)\n",
        "\n",
        "print('\\nComputed for axis 1:\\n')\n",
        "print('min:  ', xmin)\n",
        "print('max:  ', xmax)\n",
        "print('mean: ', xmean)\n",
        "print('sum:  ', xsum)"
      ],
      "metadata": {
        "colab": {
          "base_uri": "https://localhost:8080/"
        },
        "id": "6yWij5ja7VN2",
        "outputId": "98289b51-6213-440c-8917-f7292dd6c881"
      },
      "execution_count": 9,
      "outputs": [
        {
          "output_type": "stream",
          "name": "stdout",
          "text": [
            "\n",
            "Computed for axis 1:\n",
            "\n",
            "min:   tf.Tensor([0.33660412 2.2319686  1.3318717 ], shape=(3,), dtype=float32)\n",
            "max:   tf.Tensor([6.6456213 8.724445  7.223358 ], shape=(3,), dtype=float32)\n",
            "mean:  tf.Tensor([3.913189  5.493515  4.5771675], shape=(3,), dtype=float32)\n",
            "sum:   tf.Tensor([19.565945 27.467575 22.885838], shape=(3,), dtype=float32)\n"
          ]
        }
      ]
    },
    {
      "cell_type": "code",
      "source": [
        "#compute the quantitiess for axis=0 (row wise)\n",
        "\n",
        "xmin =tf.reduce_min(x,axis=0)\n",
        "xmax =tf.reduce_max(x,axis=0)\n",
        "xmean=tf.reduce_mean(x,axis=0)\n",
        "xsum =tf.reduce_sum(x,axis=0)\n",
        "\n",
        "print('\\nComputed for axis 0:\\n')\n",
        "print('min:  ', xmin)\n",
        "print('max:  ', xmax)\n",
        "print('mean: ', xmean)\n",
        "print('sum:  ', xsum)"
      ],
      "metadata": {
        "colab": {
          "base_uri": "https://localhost:8080/"
        },
        "id": "PU94IF6W8A1g",
        "outputId": "03c7f2a0-3f7d-4be1-bd9b-8f62d7a31a65"
      },
      "execution_count": 10,
      "outputs": [
        {
          "output_type": "stream",
          "name": "stdout",
          "text": [
            "\n",
            "Computed for axis 0:\n",
            "\n",
            "min:   tf.Tensor([3.103881   4.4100676  1.3318717  2.2632635  0.33660412], shape=(5,), dtype=float32)\n",
            "max:   tf.Tensor([6.8467236 7.4011745 8.724445  5.4806385 5.746088 ], shape=(5,), dtype=float32)\n",
            "mean:  tf.Tensor([5.5320754 6.3448663 4.528381  4.1295757 2.7715538], shape=(5,), dtype=float32)\n",
            "sum:   tf.Tensor([16.596226 19.0346   13.585142 12.388727  8.314661], shape=(5,), dtype=float32)\n"
          ]
        }
      ]
    },
    {
      "cell_type": "code",
      "source": [
        "# tensor flow indexing (gather)\n",
        "\n",
        "##first lets see how numpy array indexing is done\n",
        "# Create some data.\n",
        "num_data = 24\n",
        "data = np.random.uniform(0, 10, num_data)#it create 24 data points in between 0 and 10.also uniform distribution means that all values in a given range have an equal chance of being selected.\n",
        "print('data: \\n', data)\n",
        "print('\\n')\n",
        "\n",
        "# Create an array of random indices.\n",
        "indices = np.random.choice(data.shape[0], 5, replace=False)\n",
        "print('indices: ', indices)\n",
        "print('\\n')\n",
        "\n",
        "# Use the indices array to select the corresponding elements from the data array.\n",
        "selected_data = data[indices]\n",
        "\n",
        "print('selected_data: ', selected_data)\n"
      ],
      "metadata": {
        "colab": {
          "base_uri": "https://localhost:8080/"
        },
        "id": "77LYvbyv9oYx",
        "outputId": "eec3a4c5-8487-4554-e3ef-abf04ed70670"
      },
      "execution_count": 11,
      "outputs": [
        {
          "output_type": "stream",
          "name": "stdout",
          "text": [
            "data: \n",
            " [3.74540119 9.50714306 7.31993942 5.98658484 1.5601864  1.5599452\n",
            " 0.58083612 8.66176146 6.01115012 7.08072578 0.20584494 9.69909852\n",
            " 8.32442641 2.12339111 1.81824967 1.8340451  3.04242243 5.24756432\n",
            " 4.31945019 2.9122914  6.11852895 1.39493861 2.92144649 3.66361843]\n",
            "\n",
            "\n",
            "indices:  [ 0  5 20 15 13]\n",
            "\n",
            "\n",
            "selected_data:  [3.74540119 1.5599452  6.11852895 1.8340451  2.12339111]\n"
          ]
        }
      ]
    },
    {
      "cell_type": "code",
      "source": [
        "#tensor flow array indexing\n",
        "\n",
        "# Create some data.\n",
        "num_data = 24\n",
        "data = tf.random.uniform(shape=[num_data])\n",
        "print('data: \\n', data)\n",
        "print('\\n')\n",
        "\n",
        "# Create an array of random indices.\n",
        "indices = tf.random.uniform([5], minval=0, maxval=len(data)-1, dtype=tf.dtypes.int32)\n",
        "print('indices: ', indices)\n",
        "print('\\n')\n",
        "\n",
        "# Use this he gather() method to index one tensor by another tensor.\n",
        "selected_data = tf.gather(data, indices)\n",
        "\n",
        "print('selected_data: ', selected_data)\n"
      ],
      "metadata": {
        "id": "zJmFgi_eWc7A",
        "outputId": "36dff991-583b-426f-eb93-d4e0f3cd1ec7",
        "colab": {
          "base_uri": "https://localhost:8080/"
        }
      },
      "execution_count": 12,
      "outputs": [
        {
          "output_type": "stream",
          "name": "stdout",
          "text": [
            "data: \n",
            " tf.Tensor(\n",
            "[0.68789124 0.48447883 0.9309944  0.252187   0.73115396 0.89256823\n",
            " 0.94674826 0.7493341  0.34925628 0.54718256 0.26160395 0.69734323\n",
            " 0.11962581 0.53484344 0.7148968  0.87501776 0.33967495 0.17377627\n",
            " 0.4418521  0.9008261  0.13803864 0.12217975 0.5754491  0.9417181 ], shape=(24,), dtype=float32)\n",
            "\n",
            "\n",
            "indices:  tf.Tensor([ 6  3  2 15  1], shape=(5,), dtype=int32)\n",
            "\n",
            "\n",
            "selected_data:  tf.Tensor([0.94674826 0.252187   0.9309944  0.87501776 0.48447883], shape=(5,), dtype=float32)\n"
          ]
        }
      ]
    },
    {
      "cell_type": "code",
      "source": [
        "#How to select specific rows within rank-2 sensor (or Matrix)\n",
        "\n",
        "# lets create a random ranked -2 tensor(or Matrix)\n",
        "\n",
        "tensor = tf.random.normal(shape=[5, 3])\n",
        "print(tensor)\n",
        "print('\\n')\n",
        "\n",
        "#create a tensor with indices\n",
        "\n",
        "rows = tf.constant([0, 2, 4])\n",
        "cols = tf.constant([0, 2])\n",
        "\n",
        "print('rows: \\n', rows)\n",
        "print('cols: \\n', cols)\n",
        "print('\\n')\n",
        "\n",
        "print('1st, 3rd, and 5th rows of the tensor is following:')\n",
        "\n",
        "# Access specific rows of a tensor by specifying the  indices of the rows along with the row axis.\n",
        "print(tf.gather(tensor, rows, axis=0))\n",
        "\n",
        "print('\\n')\n",
        "print('1st and 3rd columns of the tensor is following, cols:')\n",
        "# Access specific cols of a tensor by specifying the indices of the cols along with the col axis.\n",
        "print(tf.gather(tensor, cols, axis=1))\n",
        "\n"
      ],
      "metadata": {
        "id": "U-FFD4kwgLX5",
        "outputId": "36f96737-f46f-4e5d-a1e7-4eefa73cdda9",
        "colab": {
          "base_uri": "https://localhost:8080/"
        }
      },
      "execution_count": 27,
      "outputs": [
        {
          "output_type": "stream",
          "name": "stdout",
          "text": [
            "tf.Tensor(\n",
            "[[-1.5440757   1.3154334   0.7808076 ]\n",
            " [ 1.0706282  -0.9656791   0.25132167]\n",
            " [-1.8545105   1.4713811  -0.7334912 ]\n",
            " [-0.34491098 -0.7662992   1.3054299 ]\n",
            " [-0.0578156   0.17457157  0.17278242]], shape=(5, 3), dtype=float32)\n",
            "\n",
            "\n",
            "rows: \n",
            " tf.Tensor([0 2 4], shape=(3,), dtype=int32)\n",
            "cols: \n",
            " tf.Tensor([0 2], shape=(2,), dtype=int32)\n",
            "\n",
            "\n",
            "1st, 3rd, and 5th rows of the tensor is following:\n",
            "tf.Tensor(\n",
            "[[-1.5440757   1.3154334   0.7808076 ]\n",
            " [-1.8545105   1.4713811  -0.7334912 ]\n",
            " [-0.0578156   0.17457157  0.17278242]], shape=(3, 3), dtype=float32)\n",
            "\n",
            "\n",
            "1st and 3rd columns of the tensor is following, cols:\n",
            "tf.Tensor(\n",
            "[[-1.5440757   0.7808076 ]\n",
            " [ 1.0706282   0.25132167]\n",
            " [-1.8545105  -0.7334912 ]\n",
            " [-0.34491098  1.3054299 ]\n",
            " [-0.0578156   0.17278242]], shape=(5, 2), dtype=float32)\n"
          ]
        }
      ]
    },
    {
      "cell_type": "code",
      "source": [
        "# 4. numpy/tensorflow interpoerability\n",
        "\n",
        "#following built-in functions that allow you to convert back and forth between and NumPy and TensorFlow\n",
        "#tf.convert_to_tensor(python_object)   ------------->>python object to tensorflow\n",
        "#tensor.numpy()    ----->>tensorflow to numpy\n",
        "\n",
        "# Create a python list.\n",
        "python_list = [1, 2]\n",
        "\n",
        "# Create a NumPy array from the list.\n",
        "numpy_array = np.array(python_list)\n",
        "\n",
        "# Create a tensor from list.\n",
        "tensor_from_list = tf.convert_to_tensor(python_list)\n",
        "\n",
        "# Create a tensor from a NumPy array.\n",
        "tensor_from_array = tf.convert_to_tensor(numpy_array)\n",
        "\n",
        "# Create a NumPy array from a tensor.\n",
        "array_from_tensor = tensor_from_array.numpy()\n",
        "\n",
        "print('create python List:   ', python_list)\n",
        "print('Numpy Array from list:  ', numpy_array)\n",
        "print('Tensor from list: ', tensor_from_list)\n",
        "print('Tensor from numpy array: ', tensor_from_array)\n",
        "print('Numpy Array from tensor :  ', array_from_tensor)\n",
        "\n"
      ],
      "metadata": {
        "id": "UUZEMgr8l4Uq",
        "outputId": "a49002dd-f27f-4aa5-8f1d-e696ba8829d9",
        "colab": {
          "base_uri": "https://localhost:8080/"
        }
      },
      "execution_count": 29,
      "outputs": [
        {
          "output_type": "stream",
          "name": "stdout",
          "text": [
            "create python List:    [1, 2]\n",
            "Numpy Array from list:   [1 2]\n",
            "Tensor from list:  tf.Tensor([1 2], shape=(2,), dtype=int32)\n",
            "Tensor from numpy array:  tf.Tensor([1 2], shape=(2,), dtype=int64)\n",
            "Numpy Array from tensor :   [1 2]\n"
          ]
        }
      ]
    },
    {
      "cell_type": "code",
      "source": [
        "#test\n",
        "\n",
        "import tensorflow as tf\n",
        "\n",
        "# Assume we have a 2D TensorFlow array (tensor)\n",
        "tensor = tf.constant([[1, 2, 3], [4, 5, 6], [7, 8, 9]])\n",
        "\n",
        "# To access the element in the second row and third column (indexes start at 0)\n",
        "element = tensor[1, 2]\n",
        "\n",
        "print('element:',element.numpy())  # Output will be the scalar value 6"
      ],
      "metadata": {
        "id": "qLcS23afsFJ4",
        "outputId": "8c2d9644-ed54-4b85-fff9-b3aaa6e3dc39",
        "colab": {
          "base_uri": "https://localhost:8080/"
        }
      },
      "execution_count": 31,
      "outputs": [
        {
          "output_type": "stream",
          "name": "stdout",
          "text": [
            "element: 6\n"
          ]
        }
      ]
    }
  ]
}